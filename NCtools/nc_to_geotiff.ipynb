{
 "cells": [
  {
   "cell_type": "code",
   "execution_count": null,
   "id": "d77e884f",
   "metadata": {},
   "outputs": [],
   "source": [
    "import numpy as np\n",
    "import xarray as xr\n",
    "import rasterio\n",
    "from rasterio.transform import from_origin"
   ]
  },
  {
   "cell_type": "code",
   "execution_count": null,
   "id": "81a47883",
   "metadata": {},
   "outputs": [],
   "source": [
    "def netcdf_layer_to_geotiff(input_path, layer_index, output_path,\n",
    "                             var_name='combined_layers',\n",
    "                             lat_name='lat', lon_name='lon',\n",
    "                             crs='EPSG:4326'):\n",
    "    \"\"\"\n",
    "    Reads a specified layer from a NetCDF variable and writes it to a GeoTIFF.\n",
    "\n",
    "    Parameters:\n",
    "    - input_path: Path to the input NetCDF file.\n",
    "    - layer_index: Integer index of the layer to extract.\n",
    "    - output_path: Path where the output GeoTIFF will be saved.\n",
    "    - var_name: Name of the variable in the NetCDF containing layers.\n",
    "    - lat_name: Name of the latitude coordinate (1D array).\n",
    "    - lon_name: Name of the longitude coordinate (1D array).\n",
    "    - crs: Coordinate reference system for the output GeoTIFF.\n",
    "    \"\"\"\n",
    "    # Open the NetCDF dataset\n",
    "    ds = xr.open_dataset(input_path)\n",
    "\n",
    "    # Extract the 2D layer\n",
    "    try:\n",
    "        data_arr = ds[var_name].isel(layer=layer_index)\n",
    "    except KeyError:\n",
    "        raise KeyError(f\"Variable '{var_name}' not found in dataset.\")\n",
    "    except IndexError:\n",
    "        raise IndexError(f\"Layer index {layer_index} out of bounds.\")\n",
    "\n",
    "    # Get coordinate arrays\n",
    "    lats = ds[lat_name].values\n",
    "    lons = ds[lon_name].values\n",
    "    if lats.ndim != 1 or lons.ndim != 1:\n",
    "        raise ValueError(\"Latitude and longitude must be 1D arrays.\")\n",
    "\n",
    "    data = data_arr.values\n",
    "\n",
    "    # Compute resolution\n",
    "    lat_res = abs(lats[1] - lats[0])\n",
    "    lon_res = abs(lons[1] - lons[0])\n",
    "\n",
    "    # Define affine transform\n",
    "    transform = from_origin(\n",
    "        west=lons.min() - lon_res/2,\n",
    "        north=lats.max() + lat_res/2,\n",
    "        xsize=lon_res,\n",
    "        ysize=lat_res\n",
    "    )\n",
    "\n",
    "    # Write GeoTIFF\n",
    "    with rasterio.open(\n",
    "        output_path, 'w',\n",
    "        driver='GTiff',\n",
    "        height=data.shape[0],\n",
    "        width=data.shape[1],\n",
    "        count=1,\n",
    "        dtype=data.dtype,\n",
    "        crs=crs,\n",
    "        transform=transform\n",
    "    ) as dst:\n",
    "        dst.write(data, 1)\n",
    "\n",
    "    print(f\"GeoTIFF saved to: {output_path}\")\n"
   ]
  },
  {
   "cell_type": "code",
   "execution_count": null,
   "id": "c6ad5319",
   "metadata": {},
   "outputs": [
    {
     "name": "stdout",
     "output_type": "stream",
     "text": [
      "GeoTIFF saved to: C:\\Users\\TyHow\\Desktop\\dh.tif\n"
     ]
    }
   ],
   "source": [
    "### run\n",
    "input_nc   = r\"C:\\Users\\TyHow\\Desktop\\dh.nc\"\n",
    "output_tif = r\"C:\\Users\\TyHow\\Desktop\\dh.tif\"\n",
    "layer_idx  = 0  \n",
    "\n",
    "\n",
    "netcdf_layer_to_geotiff(input_nc, layer_idx, output_tif, lat_name='y', lon_name='x')"
   ]
  },
  {
   "cell_type": "code",
   "execution_count": null,
   "id": "e7570c40",
   "metadata": {},
   "outputs": [],
   "source": []
  }
 ],
 "metadata": {
  "kernelspec": {
   "display_name": "geo_env",
   "language": "python",
   "name": "python3"
  },
  "language_info": {
   "codemirror_mode": {
    "name": "ipython",
    "version": 3
   },
   "file_extension": ".py",
   "mimetype": "text/x-python",
   "name": "python",
   "nbconvert_exporter": "python",
   "pygments_lexer": "ipython3",
   "version": "3.13.2"
  }
 },
 "nbformat": 4,
 "nbformat_minor": 5
}
