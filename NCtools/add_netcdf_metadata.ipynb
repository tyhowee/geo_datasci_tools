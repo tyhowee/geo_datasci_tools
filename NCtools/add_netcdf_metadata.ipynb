{
 "cells": [
  {
   "cell_type": "code",
   "execution_count": 8,
   "id": "2aa46898",
   "metadata": {},
   "outputs": [],
   "source": [
    "import xarray as xr\n",
    "import rioxarray \n",
    "from datetime import datetime\n",
    "import json\n",
    "from affine import Affine"
   ]
  },
  {
   "cell_type": "code",
   "execution_count": 2,
   "id": "b3f7d252",
   "metadata": {},
   "outputs": [],
   "source": [
    "# Define file paths for input and output\n",
    "input_file = r\"C:\\Users\\TyHow\\Downloads\\5m_output\\5m_output.nc\"  # Path to your original NetCDF file\n",
    "output_file = r\"C:\\Users\\TyHow\\Downloads\\5m_output\\5m_output_metadata.nc\"  # Path to save the new file with updated metadata\n",
    "\n",
    "# Open the dataset using xarray\n",
    "ds = xr.open_dataset(input_file)"
   ]
  },
  {
   "cell_type": "code",
   "execution_count": 3,
   "id": "d04b1f27",
   "metadata": {},
   "outputs": [
    {
     "name": "stderr",
     "output_type": "stream",
     "text": [
      "C:\\Users\\TyHow\\AppData\\Local\\Temp\\ipykernel_4132\\1947461960.py:13: DeprecationWarning: datetime.datetime.utcnow() is deprecated and scheduled for removal in a future version. Use timezone-aware objects to represent datetimes in UTC: datetime.datetime.now(datetime.UTC).\n",
      "  ds.attrs[\"date_created\"] = datetime.utcnow().isoformat() + \"Z\"  # ISO formatted UTC date/time.\n"
     ]
    }
   ],
   "source": [
    "### Update Global Metadata Attributes\n",
    "\n",
    "\n",
    "# Check if the dataset is already aware of its CRS. If not, assume it's in EPSG:4326 and define it.\n",
    "if not ds.rio.crs:\n",
    "    ds = ds.rio.write_crs(\"EPSG:4326\")\n",
    "    print(\"No CRS found in the dataset; setting default to EPSG:4326.\")\n",
    "\n",
    "\n",
    "ds.attrs[\"author\"] = \"Tyler Howe\"\n",
    "ds.attrs[\"company\"] = \"MinersAI\"\n",
    "ds.attrs[\"license\"] = \"CCBY 4.0 (Original data is shared under CCBY 4.0 at the time of release)\"\n",
    "ds.attrs[\"date_created\"] = datetime.utcnow().isoformat() + \"Z\"  # ISO formatted UTC date/time.\n",
    "ds.attrs[\"data_source\"] = (\n",
    "    \"https://www.kaggle.com/datasets/nickwilliams99/kobold-metals-sitatunga-airborne-geophysics-survey\"\n",
    ")\n",
    "ds.attrs[\"date_accessed\"] = \"04/07/2025\"\n",
    "ds.attrs[\"country\"] = \"Zambia\"\n",
    "ds.attrs[\"attribution\"] = \"Original data provided by KoBold Metals\" \n",
    "# Note: The following two attributes are for the UTM projection metadata.\n",
    "ds.attrs[\"crs\"] = \"EPSG:32735\" \n",
    "ds.attrs[\"utm_zone\"] = \"35S\""
   ]
  },
  {
   "cell_type": "code",
   "execution_count": 5,
   "id": "001f9f3d",
   "metadata": {},
   "outputs": [],
   "source": [
    "### Define layer units\n",
    "\n",
    "layer_units = {\n",
    "    \"Bouguer230_Processed\": \"mGal\",\n",
    "    \"Bouguer267_Processed\": \"mGal\",\n",
    "    \"Digital_terrain\": \"Meters\",\n",
    "    \"Gravity_disturbance_Processed\": \"mGal\",\n",
    "    \"Grav_model_Processed\": \"mGal\",\n",
    "    \"Processed_magnetics\": \"nT\",\n",
    "    \"Gradient_levelled\": \"nT/m\",\n",
    "    \"Potassium_NASVD_processed\": \"Percentage\",\n",
    "    \"Uranium_NASVD_processed\": \"PPM\",\n",
    "    \"Thorium_NASVD_processed\": \"PPM\",\n",
    "    \"Total_count_NASVD_processed\": \"CPS\",\n",
    "}\n",
    "\n",
    "for i, (name, u) in enumerate(layer_units.items()):\n",
    "    ds[\"combined_layers\"].isel(layer=i).attrs[\"units\"] = u"
   ]
  },
  {
   "cell_type": "code",
   "execution_count": null,
   "id": "1ecbbf24",
   "metadata": {},
   "outputs": [],
   "source": [
    "\n",
    "# --------------------------------------------------------------------------------\n",
    "# 3. Add Units to All Layers (Data Variables)\n",
    "# --------------------------------------------------------------------------------\n",
    "# Iterate through each data variable and add a \"units\" attribute if it isn’t already specified.\n",
    "#for var in ds.data_vars:\n",
    "#    if \"units\" not in ds[var].attrs:\n",
    "#        ds[var].attrs[\"units\"] = \"your_unit_here\"  # Replace with actual units if known.\n",
    "#        print(f\"Added default units to variable: {var}\")\n"
   ]
  },
  {
   "cell_type": "code",
   "execution_count": null,
   "id": "7017600f",
   "metadata": {},
   "outputs": [],
   "source": [
    "### Reproject the Dataset to UTM Zone 35S\n",
    "\n",
    "da = ds[\"combined_layers\"]\n",
    "\n",
    "# 2. (Optional) ensure your spatial dims are named 'x' & 'y'\n",
    "#    da = da.rename({'lon':'x','lat':'y'})\n",
    "\n",
    "# 3. build Affine from your coordinate arrays\n",
    "x = da[\"x\"].values\n",
    "y = da[\"y\"].values\n",
    "resx = x[1] - x[0]\n",
    "resy = y[1] - y[0]\n",
    "transform = Affine(resx, 0, x.min(), 0, -resy, y.max())\n",
    "\n",
    "# 4. write transform then CRS\n",
    "da = da.rio.write_transform(transform, inplace=False)\n",
    "da = da.rio.write_crs(\"EPSG:4326\", inplace=False)\n",
    "\n",
    "# 5. reproject to UTM zone 35S\n",
    "da_utm = da.rio.reproject(\"EPSG:32735\")\n",
    "\n",
    "# 6. put back (or under new name) in your dataset\n",
    "ds = ds.drop_vars(\"combined_layers\").assign(combined_layers_utm=da_utm)"
   ]
  },
  {
   "cell_type": "code",
   "execution_count": 18,
   "id": "64e8d789",
   "metadata": {},
   "outputs": [
    {
     "name": "stdout",
     "output_type": "stream",
     "text": [
      "Reprojected dataset with updated metadata saved to: C:\\Users\\TyHow\\Downloads\\5m_output\\5m_output_metadata.nc\n"
     ]
    }
   ],
   "source": [
    "### Save the Updated and Reprojected Dataset to a New NetCDF File\n",
    "\n",
    "ds.to_netcdf(output_file)\n",
    "print(f\"Reprojected dataset with updated metadata saved to: {output_file}\")"
   ]
  },
  {
   "cell_type": "code",
   "execution_count": null,
   "id": "f84d1790",
   "metadata": {},
   "outputs": [],
   "source": []
  }
 ],
 "metadata": {
  "kernelspec": {
   "display_name": "geo_env",
   "language": "python",
   "name": "python3"
  },
  "language_info": {
   "codemirror_mode": {
    "name": "ipython",
    "version": 3
   },
   "file_extension": ".py",
   "mimetype": "text/x-python",
   "name": "python",
   "nbconvert_exporter": "python",
   "pygments_lexer": "ipython3",
   "version": "3.13.2"
  }
 },
 "nbformat": 4,
 "nbformat_minor": 5
}
