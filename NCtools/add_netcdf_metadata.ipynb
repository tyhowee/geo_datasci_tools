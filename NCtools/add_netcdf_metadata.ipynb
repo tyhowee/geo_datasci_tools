{
 "cells": [
  {
   "cell_type": "code",
   "execution_count": 1,
   "id": "2aa46898",
   "metadata": {},
   "outputs": [],
   "source": [
    "import xarray as xr\n",
    "import rioxarray  # this registers the .rio accessor on xarray objects\n",
    "from datetime import datetime\n",
    "\n",
    "# Define file paths for input and output\n",
    "input_file = '/Users/thowe/MinersAI Dropbox/Tyler Howe/KoboldData/5m/5m_output.nc'   # Path to your original NetCDF file\n",
    "output_file = '/Users/thowe/MinersAI Dropbox/Tyler Howe/KoboldData/5m/5m_output_metadata.nc' # Path to save the new file with updated metadata\n"
   ]
  },
  {
   "cell_type": "code",
   "execution_count": null,
   "id": "d04b1f27",
   "metadata": {},
   "outputs": [
    {
     "name": "stderr",
     "output_type": "stream",
     "text": [
      "/var/folders/xc/wpkwk17x20z44scclf26ttt80000gn/T/ipykernel_76685/1132500501.py:19: DeprecationWarning: datetime.datetime.utcnow() is deprecated and scheduled for removal in a future version. Use timezone-aware objects to represent datetimes in UTC: datetime.datetime.now(datetime.UTC).\n",
      "  ds.attrs[\"date_minted\"] = datetime.utcnow().isoformat() + \"Z\"  # ISO formatted UTC date/time.\n"
     ]
    },
    {
     "ename": "TypeError",
     "evalue": "can't multiply sequence by non-int of type 'float'",
     "output_type": "error",
     "traceback": [
      "\u001b[0;31m---------------------------------------------------------------------------\u001b[0m",
      "\u001b[0;31mKeyError\u001b[0m                                  Traceback (most recent call last)",
      "File \u001b[0;32m/opt/anaconda3/envs/geo_env/lib/python3.12/site-packages/rioxarray/rioxarray.py:614\u001b[0m, in \u001b[0;36mXRasterBase._cached_transform\u001b[0;34m(self)\u001b[0m\n\u001b[1;32m    611\u001b[0m \u001b[38;5;28;01mtry\u001b[39;00m:\n\u001b[1;32m    612\u001b[0m     \u001b[38;5;66;03m# look in grid_mapping\u001b[39;00m\n\u001b[1;32m    613\u001b[0m     transform \u001b[38;5;241m=\u001b[39m numpy\u001b[38;5;241m.\u001b[39mfromstring(\n\u001b[0;32m--> 614\u001b[0m         \u001b[38;5;28;43mself\u001b[39;49m\u001b[38;5;241;43m.\u001b[39;49m\u001b[43m_obj\u001b[49m\u001b[38;5;241;43m.\u001b[39;49m\u001b[43mcoords\u001b[49m\u001b[43m[\u001b[49m\u001b[38;5;28;43mself\u001b[39;49m\u001b[38;5;241;43m.\u001b[39;49m\u001b[43mgrid_mapping\u001b[49m\u001b[43m]\u001b[49m\u001b[38;5;241;43m.\u001b[39;49m\u001b[43mattrs\u001b[49m\u001b[43m[\u001b[49m\u001b[38;5;124;43m\"\u001b[39;49m\u001b[38;5;124;43mGeoTransform\u001b[39;49m\u001b[38;5;124;43m\"\u001b[39;49m\u001b[43m]\u001b[49m, sep\u001b[38;5;241m=\u001b[39m\u001b[38;5;124m\"\u001b[39m\u001b[38;5;124m \u001b[39m\u001b[38;5;124m\"\u001b[39m\n\u001b[1;32m    615\u001b[0m     )\n\u001b[1;32m    616\u001b[0m     \u001b[38;5;66;03m# Calling .tolist() to assure the arguments are Python float and JSON serializable\u001b[39;00m\n",
      "\u001b[0;31mKeyError\u001b[0m: 'GeoTransform'",
      "\nDuring handling of the above exception, another exception occurred:\n",
      "\u001b[0;31mTypeError\u001b[0m                                 Traceback (most recent call last)",
      "Cell \u001b[0;32mIn[2], line 40\u001b[0m\n\u001b[1;32m     26\u001b[0m \u001b[38;5;66;03m# --------------------------------------------------------------------------------\u001b[39;00m\n\u001b[1;32m     27\u001b[0m \u001b[38;5;66;03m# 3. Add Units to All Layers (Data Variables)\u001b[39;00m\n\u001b[1;32m     28\u001b[0m \u001b[38;5;66;03m# --------------------------------------------------------------------------------\u001b[39;00m\n\u001b[0;32m   (...)\u001b[0m\n\u001b[1;32m     37\u001b[0m \u001b[38;5;66;03m# --------------------------------------------------------------------------------\u001b[39;00m\n\u001b[1;32m     38\u001b[0m \u001b[38;5;66;03m# UTM Zone 35S is typically represented by EPSG:32735 when using WGS84 in the southern hemisphere.\u001b[39;00m\n\u001b[1;32m     39\u001b[0m target_crs \u001b[38;5;241m=\u001b[39m \u001b[38;5;124m\"\u001b[39m\u001b[38;5;124mEPSG:32735\u001b[39m\u001b[38;5;124m\"\u001b[39m\n\u001b[0;32m---> 40\u001b[0m ds_reprojected \u001b[38;5;241m=\u001b[39m \u001b[43mds\u001b[49m\u001b[38;5;241;43m.\u001b[39;49m\u001b[43mrio\u001b[49m\u001b[38;5;241;43m.\u001b[39;49m\u001b[43mreproject\u001b[49m\u001b[43m(\u001b[49m\u001b[43mtarget_crs\u001b[49m\u001b[43m)\u001b[49m\n\u001b[1;32m     41\u001b[0m \u001b[38;5;28mprint\u001b[39m(\u001b[38;5;124mf\u001b[39m\u001b[38;5;124m\"\u001b[39m\u001b[38;5;124mDataset reprojected from EPSG:4326 to \u001b[39m\u001b[38;5;132;01m{\u001b[39;00mtarget_crs\u001b[38;5;132;01m}\u001b[39;00m\u001b[38;5;124m (UTM Zone 35S).\u001b[39m\u001b[38;5;124m\"\u001b[39m)\n",
      "File \u001b[0;32m/opt/anaconda3/envs/geo_env/lib/python3.12/site-packages/rioxarray/raster_dataset.py:121\u001b[0m, in \u001b[0;36mRasterDataset.reproject\u001b[0;34m(self, dst_crs, resolution, shape, transform, resampling, nodata, **kwargs)\u001b[0m\n\u001b[1;32m    118\u001b[0m \u001b[38;5;28;01mtry\u001b[39;00m:\n\u001b[1;32m    119\u001b[0m     x_dim, y_dim \u001b[38;5;241m=\u001b[39m _get_spatial_dims(\u001b[38;5;28mself\u001b[39m\u001b[38;5;241m.\u001b[39m_obj, var)\n\u001b[1;32m    120\u001b[0m     resampled_dataset[var] \u001b[38;5;241m=\u001b[39m (\n\u001b[0;32m--> 121\u001b[0m         \u001b[38;5;28;43mself\u001b[39;49m\u001b[38;5;241;43m.\u001b[39;49m\u001b[43m_obj\u001b[49m\u001b[43m[\u001b[49m\u001b[43mvar\u001b[49m\u001b[43m]\u001b[49m\n\u001b[1;32m    122\u001b[0m \u001b[43m        \u001b[49m\u001b[38;5;241;43m.\u001b[39;49m\u001b[43mrio\u001b[49m\u001b[38;5;241;43m.\u001b[39;49m\u001b[43mset_spatial_dims\u001b[49m\u001b[43m(\u001b[49m\u001b[43mx_dim\u001b[49m\u001b[38;5;241;43m=\u001b[39;49m\u001b[43mx_dim\u001b[49m\u001b[43m,\u001b[49m\u001b[43m \u001b[49m\u001b[43my_dim\u001b[49m\u001b[38;5;241;43m=\u001b[39;49m\u001b[43my_dim\u001b[49m\u001b[43m,\u001b[49m\u001b[43m \u001b[49m\u001b[43minplace\u001b[49m\u001b[38;5;241;43m=\u001b[39;49m\u001b[38;5;28;43;01mTrue\u001b[39;49;00m\u001b[43m)\u001b[49m\n\u001b[1;32m    123\u001b[0m \u001b[43m        \u001b[49m\u001b[38;5;241;43m.\u001b[39;49m\u001b[43mrio\u001b[49m\u001b[38;5;241;43m.\u001b[39;49m\u001b[43mreproject\u001b[49m\u001b[43m(\u001b[49m\n\u001b[1;32m    124\u001b[0m \u001b[43m            \u001b[49m\u001b[43mdst_crs\u001b[49m\u001b[43m,\u001b[49m\n\u001b[1;32m    125\u001b[0m \u001b[43m            \u001b[49m\u001b[43mresolution\u001b[49m\u001b[38;5;241;43m=\u001b[39;49m\u001b[43mresolution\u001b[49m\u001b[43m,\u001b[49m\n\u001b[1;32m    126\u001b[0m \u001b[43m            \u001b[49m\u001b[43mshape\u001b[49m\u001b[38;5;241;43m=\u001b[39;49m\u001b[43mshape\u001b[49m\u001b[43m,\u001b[49m\n\u001b[1;32m    127\u001b[0m \u001b[43m            \u001b[49m\u001b[43mtransform\u001b[49m\u001b[38;5;241;43m=\u001b[39;49m\u001b[43mtransform\u001b[49m\u001b[43m,\u001b[49m\n\u001b[1;32m    128\u001b[0m \u001b[43m            \u001b[49m\u001b[43mresampling\u001b[49m\u001b[38;5;241;43m=\u001b[39;49m\u001b[43mresampling\u001b[49m\u001b[43m,\u001b[49m\n\u001b[1;32m    129\u001b[0m \u001b[43m            \u001b[49m\u001b[43mnodata\u001b[49m\u001b[38;5;241;43m=\u001b[39;49m\u001b[43mnodata\u001b[49m\u001b[43m,\u001b[49m\n\u001b[1;32m    130\u001b[0m \u001b[43m            \u001b[49m\u001b[38;5;241;43m*\u001b[39;49m\u001b[38;5;241;43m*\u001b[39;49m\u001b[43mkwargs\u001b[49m\u001b[43m,\u001b[49m\n\u001b[1;32m    131\u001b[0m \u001b[43m        \u001b[49m\u001b[43m)\u001b[49m\n\u001b[1;32m    132\u001b[0m     )\n\u001b[1;32m    133\u001b[0m \u001b[38;5;28;01mexcept\u001b[39;00m MissingSpatialDimensionError:\n\u001b[1;32m    134\u001b[0m     \u001b[38;5;28;01mif\u001b[39;00m \u001b[38;5;28mlen\u001b[39m(\u001b[38;5;28mself\u001b[39m\u001b[38;5;241m.\u001b[39m_obj[var]\u001b[38;5;241m.\u001b[39mdims) \u001b[38;5;241m>\u001b[39m\u001b[38;5;241m=\u001b[39m \u001b[38;5;241m2\u001b[39m \u001b[38;5;129;01mand\u001b[39;00m \u001b[38;5;129;01mnot\u001b[39;00m get_option(\n\u001b[1;32m    135\u001b[0m         SKIP_MISSING_SPATIAL_DIMS\n\u001b[1;32m    136\u001b[0m     ):\n",
      "File \u001b[0;32m/opt/anaconda3/envs/geo_env/lib/python3.12/site-packages/rioxarray/raster_array.py:442\u001b[0m, in \u001b[0;36mRasterArray.reproject\u001b[0;34m(self, dst_crs, resolution, shape, transform, resampling, nodata, **kwargs)\u001b[0m\n\u001b[1;32m    439\u001b[0m     kwargs\u001b[38;5;241m.\u001b[39msetdefault(\u001b[38;5;124m\"\u001b[39m\u001b[38;5;124mgcps\u001b[39m\u001b[38;5;124m\"\u001b[39m, gcps)\n\u001b[1;32m    441\u001b[0m gcps_or_rpcs \u001b[38;5;241m=\u001b[39m \u001b[38;5;124m\"\u001b[39m\u001b[38;5;124mgcps\u001b[39m\u001b[38;5;124m\"\u001b[39m \u001b[38;5;129;01min\u001b[39;00m kwargs \u001b[38;5;129;01mor\u001b[39;00m \u001b[38;5;124m\"\u001b[39m\u001b[38;5;124mrpcs\u001b[39m\u001b[38;5;124m\"\u001b[39m \u001b[38;5;129;01min\u001b[39;00m kwargs\n\u001b[0;32m--> 442\u001b[0m src_affine \u001b[38;5;241m=\u001b[39m \u001b[38;5;28;01mNone\u001b[39;00m \u001b[38;5;28;01mif\u001b[39;00m gcps_or_rpcs \u001b[38;5;28;01melse\u001b[39;00m \u001b[38;5;28;43mself\u001b[39;49m\u001b[38;5;241;43m.\u001b[39;49m\u001b[43mtransform\u001b[49m\u001b[43m(\u001b[49m\u001b[43mrecalc\u001b[49m\u001b[38;5;241;43m=\u001b[39;49m\u001b[38;5;28;43;01mTrue\u001b[39;49;00m\u001b[43m)\u001b[49m\n\u001b[1;32m    443\u001b[0m \u001b[38;5;28;01mif\u001b[39;00m transform \u001b[38;5;129;01mis\u001b[39;00m \u001b[38;5;28;01mNone\u001b[39;00m:\n\u001b[1;32m    444\u001b[0m     dst_affine, dst_width, dst_height \u001b[38;5;241m=\u001b[39m _make_dst_affine(\n\u001b[1;32m    445\u001b[0m         \u001b[38;5;28mself\u001b[39m\u001b[38;5;241m.\u001b[39m_obj, \u001b[38;5;28mself\u001b[39m\u001b[38;5;241m.\u001b[39mcrs, dst_crs, resolution, shape, \u001b[38;5;241m*\u001b[39m\u001b[38;5;241m*\u001b[39mkwargs\n\u001b[1;32m    446\u001b[0m     )\n",
      "File \u001b[0;32m/opt/anaconda3/envs/geo_env/lib/python3.12/site-packages/rioxarray/rioxarray.py:687\u001b[0m, in \u001b[0;36mXRasterBase.transform\u001b[0;34m(self, recalc)\u001b[0m\n\u001b[1;32m    674\u001b[0m \u001b[38;5;28;01mdef\u001b[39;00m \u001b[38;5;21mtransform\u001b[39m(\u001b[38;5;28mself\u001b[39m, recalc: \u001b[38;5;28mbool\u001b[39m \u001b[38;5;241m=\u001b[39m \u001b[38;5;28;01mFalse\u001b[39;00m) \u001b[38;5;241m-\u001b[39m\u001b[38;5;241m>\u001b[39m Affine:\n\u001b[1;32m    675\u001b[0m \u001b[38;5;250m    \u001b[39m\u001b[38;5;124;03m\"\"\"\u001b[39;00m\n\u001b[1;32m    676\u001b[0m \u001b[38;5;124;03m    Parameters\u001b[39;00m\n\u001b[1;32m    677\u001b[0m \u001b[38;5;124;03m    ----------\u001b[39;00m\n\u001b[0;32m   (...)\u001b[0m\n\u001b[1;32m    685\u001b[0m \u001b[38;5;124;03m        The affine of the :obj:`xarray.Dataset` | :obj:`xarray.DataArray`\u001b[39;00m\n\u001b[1;32m    686\u001b[0m \u001b[38;5;124;03m    \"\"\"\u001b[39;00m\n\u001b[0;32m--> 687\u001b[0m     transform \u001b[38;5;241m=\u001b[39m \u001b[38;5;28;43mself\u001b[39;49m\u001b[38;5;241;43m.\u001b[39;49m\u001b[43m_cached_transform\u001b[49m\u001b[43m(\u001b[49m\u001b[43m)\u001b[49m\n\u001b[1;32m    688\u001b[0m     \u001b[38;5;28;01mif\u001b[39;00m transform \u001b[38;5;129;01mand\u001b[39;00m (\n\u001b[1;32m    689\u001b[0m         \u001b[38;5;129;01mnot\u001b[39;00m transform\u001b[38;5;241m.\u001b[39mis_rectilinear \u001b[38;5;129;01mor\u001b[39;00m _affine_has_rotation(transform)\n\u001b[1;32m    690\u001b[0m     ):\n\u001b[1;32m    691\u001b[0m         \u001b[38;5;28;01mif\u001b[39;00m recalc:\n",
      "File \u001b[0;32m/opt/anaconda3/envs/geo_env/lib/python3.12/site-packages/rioxarray/rioxarray.py:621\u001b[0m, in \u001b[0;36mXRasterBase._cached_transform\u001b[0;34m(self)\u001b[0m\n\u001b[1;32m    619\u001b[0m \u001b[38;5;28;01mexcept\u001b[39;00m \u001b[38;5;167;01mKeyError\u001b[39;00m:\n\u001b[1;32m    620\u001b[0m     \u001b[38;5;28;01mtry\u001b[39;00m:\n\u001b[0;32m--> 621\u001b[0m         \u001b[38;5;28;01mreturn\u001b[39;00m \u001b[43mAffine\u001b[49m\u001b[43m(\u001b[49m\u001b[38;5;241;43m*\u001b[39;49m\u001b[38;5;28;43mself\u001b[39;49m\u001b[38;5;241;43m.\u001b[39;49m\u001b[43m_obj\u001b[49m\u001b[38;5;241;43m.\u001b[39;49m\u001b[43mattrs\u001b[49m\u001b[43m[\u001b[49m\u001b[38;5;124;43m\"\u001b[39;49m\u001b[38;5;124;43mtransform\u001b[39;49m\u001b[38;5;124;43m\"\u001b[39;49m\u001b[43m]\u001b[49m\u001b[43m[\u001b[49m\u001b[43m:\u001b[49m\u001b[38;5;241;43m6\u001b[39;49m\u001b[43m]\u001b[49m\u001b[43m)\u001b[49m\n\u001b[1;32m    622\u001b[0m     \u001b[38;5;28;01mexcept\u001b[39;00m \u001b[38;5;167;01mKeyError\u001b[39;00m:\n\u001b[1;32m    623\u001b[0m         \u001b[38;5;28;01mpass\u001b[39;00m\n",
      "File \u001b[0;32m/opt/anaconda3/envs/geo_env/lib/python3.12/site-packages/affine/__init__.py:167\u001b[0m, in \u001b[0;36mAffine.__new__\u001b[0;34m(cls, a, b, c, d, e, f, g, h, i)\u001b[0m\n\u001b[1;32m    145\u001b[0m \u001b[38;5;28;01mdef\u001b[39;00m \u001b[38;5;21m__new__\u001b[39m(\n\u001b[1;32m    146\u001b[0m     \u001b[38;5;28mcls\u001b[39m,\n\u001b[1;32m    147\u001b[0m     a: \u001b[38;5;28mfloat\u001b[39m,\n\u001b[0;32m   (...)\u001b[0m\n\u001b[1;32m    155\u001b[0m     i: \u001b[38;5;28mfloat\u001b[39m \u001b[38;5;241m=\u001b[39m \u001b[38;5;241m1.0\u001b[39m,\n\u001b[1;32m    156\u001b[0m ):\n\u001b[1;32m    157\u001b[0m \u001b[38;5;250m    \u001b[39m\u001b[38;5;124;03m\"\"\"Create a new object\u001b[39;00m\n\u001b[1;32m    158\u001b[0m \n\u001b[1;32m    159\u001b[0m \u001b[38;5;124;03m    Parameters\u001b[39;00m\n\u001b[0;32m   (...)\u001b[0m\n\u001b[1;32m    162\u001b[0m \u001b[38;5;124;03m        Elements of an augmented affine transformation matrix.\u001b[39;00m\n\u001b[1;32m    163\u001b[0m \u001b[38;5;124;03m    \"\"\"\u001b[39;00m\n\u001b[1;32m    164\u001b[0m     \u001b[38;5;28;01mreturn\u001b[39;00m \u001b[38;5;28mtuple\u001b[39m\u001b[38;5;241m.\u001b[39m\u001b[38;5;21m__new__\u001b[39m(\n\u001b[1;32m    165\u001b[0m         \u001b[38;5;28mcls\u001b[39m,\n\u001b[1;32m    166\u001b[0m         (\n\u001b[0;32m--> 167\u001b[0m             \u001b[43ma\u001b[49m\u001b[43m \u001b[49m\u001b[38;5;241;43m*\u001b[39;49m\u001b[43m \u001b[49m\u001b[38;5;241;43m1.0\u001b[39;49m,\n\u001b[1;32m    168\u001b[0m             b \u001b[38;5;241m*\u001b[39m \u001b[38;5;241m1.0\u001b[39m,\n\u001b[1;32m    169\u001b[0m             c \u001b[38;5;241m*\u001b[39m \u001b[38;5;241m1.0\u001b[39m,\n\u001b[1;32m    170\u001b[0m             d \u001b[38;5;241m*\u001b[39m \u001b[38;5;241m1.0\u001b[39m,\n\u001b[1;32m    171\u001b[0m             e \u001b[38;5;241m*\u001b[39m \u001b[38;5;241m1.0\u001b[39m,\n\u001b[1;32m    172\u001b[0m             f \u001b[38;5;241m*\u001b[39m \u001b[38;5;241m1.0\u001b[39m,\n\u001b[1;32m    173\u001b[0m             g \u001b[38;5;241m*\u001b[39m \u001b[38;5;241m1.0\u001b[39m,\n\u001b[1;32m    174\u001b[0m             h \u001b[38;5;241m*\u001b[39m \u001b[38;5;241m1.0\u001b[39m,\n\u001b[1;32m    175\u001b[0m             i \u001b[38;5;241m*\u001b[39m \u001b[38;5;241m1.0\u001b[39m,\n\u001b[1;32m    176\u001b[0m         ),\n\u001b[1;32m    177\u001b[0m     )\n",
      "\u001b[0;31mTypeError\u001b[0m: can't multiply sequence by non-int of type 'float'"
     ]
    }
   ],
   "source": [
    "\n",
    "# Open the dataset using xarray\n",
    "ds = xr.open_dataset(input_file)\n",
    "\n",
    "# --------------------------------------------------------------------------------\n",
    "# 1. Ensure the Dataset has a CRS defined\n",
    "# --------------------------------------------------------------------------------\n",
    "# Check if the dataset is already aware of its CRS. If not, assume it's in EPSG:4326 and define it.\n",
    "if not ds.rio.crs:\n",
    "    ds = ds.rio.write_crs(\"EPSG:4326\")\n",
    "    print(\"No CRS found in the dataset; setting default to EPSG:4326.\")\n",
    "\n",
    "# --------------------------------------------------------------------------------\n",
    "# 2. Update Global Metadata Attributes\n",
    "# --------------------------------------------------------------------------------\n",
    "# Here we add or update the global attributes with the required metadata.\n",
    "ds.attrs[\"author\"] = \"Tyler Howe\"\n",
    "ds.attrs[\"company\"] = \"MinersAI\"\n",
    "ds.attrs[\"license\"] = \"CCBY 4.0 (Original data is shared under CCBY 4.0 at the time of release)\"\n",
    "ds.attrs[\"date_minted\"] = datetime.utcnow().isoformat() + \"Z\"  # ISO formatted UTC date/time.\n",
    "ds.attrs[\"country\"] = \"Zambia\"\n",
    "ds.attrs[\"attribution\"] = \"Original data provided by KoBold Metals\" \n",
    "# Note: The following two attributes are for the UTM projection metadata.\n",
    "ds.attrs[\"crs\"] = \"EPSG:32735\"  # This informs users of the new CRS (UTM Zone 35S).\n",
    "ds.attrs[\"utm_zone\"] = \"35S\"\n",
    "\n",
    "# --------------------------------------------------------------------------------\n",
    "# 3. Add Units to All Layers (Data Variables)\n",
    "# --------------------------------------------------------------------------------\n",
    "# Iterate through each data variable and add a \"units\" attribute if it isn’t already specified.\n",
    "#for var in ds.data_vars:\n",
    "#    if \"units\" not in ds[var].attrs:\n",
    "#        ds[var].attrs[\"units\"] = \"your_unit_here\"  # Replace with actual units if known.\n",
    "#        print(f\"Added default units to variable: {var}\")\n",
    "\n",
    "# --------------------------------------------------------------------------------\n",
    "# 4. Reproject the Dataset to UTM Zone 35S\n",
    "# --------------------------------------------------------------------------------\n",
    "# UTM Zone 35S is typically represented by EPSG:32735 when using WGS84 in the southern hemisphere.\n",
    "target_crs = \"EPSG:32735\"\n",
    "ds_reprojected = ds.rio.reproject(target_crs)\n",
    "\n",
    "print(f\"Dataset reprojected from EPSG:4326 to {target_crs} (UTM Zone 35S).\")\n"
   ]
  },
  {
   "cell_type": "code",
   "execution_count": null,
   "id": "64e8d789",
   "metadata": {},
   "outputs": [],
   "source": [
    "\n",
    "# --------------------------------------------------------------------------------\n",
    "# 5. Save the Updated and Reprojected Dataset to a New NetCDF File\n",
    "# --------------------------------------------------------------------------------\n",
    "ds_reprojected.to_netcdf(output_file)\n",
    "print(f\"Reprojected dataset with updated metadata saved to: {output_file}\")"
   ]
  }
 ],
 "metadata": {
  "kernelspec": {
   "display_name": "geo_env",
   "language": "python",
   "name": "python3"
  },
  "language_info": {
   "codemirror_mode": {
    "name": "ipython",
    "version": 3
   },
   "file_extension": ".py",
   "mimetype": "text/x-python",
   "name": "python",
   "nbconvert_exporter": "python",
   "pygments_lexer": "ipython3",
   "version": "3.12.5"
  }
 },
 "nbformat": 4,
 "nbformat_minor": 5
}
