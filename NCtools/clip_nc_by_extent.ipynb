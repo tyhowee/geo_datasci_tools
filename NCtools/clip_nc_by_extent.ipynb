{
 "cells": [
  {
   "cell_type": "code",
   "execution_count": 31,
   "id": "62cfabe8",
   "metadata": {},
   "outputs": [],
   "source": [
    "import xarray as xr\n",
    "import geopandas as gpd\n",
    "import rioxarray\n",
    "from pathlib import Path"
   ]
  },
  {
   "cell_type": "code",
   "execution_count": 32,
   "id": "383ab268",
   "metadata": {},
   "outputs": [],
   "source": [
    "def clip_netcdf_by_geojson(netcdf_path, geojson_path, output_path=None, input_crs=None):\n",
    "    # Load dataset and vector\n",
    "    ds = xr.open_dataset(netcdf_path)\n",
    "    gdf = gpd.read_file(geojson_path)\n",
    "\n",
    "    # 1. Set the correct spatial dims (x/y) and CRS (EPSG:6622)\n",
    "    ds = ds.rio.set_spatial_dims(x_dim=\"x\", y_dim=\"y\")\n",
    "    ds = ds.rio.write_crs(input_crs)\n",
    "\n",
    "    # 2. Reproject GeoDataFrame into the same CRS\n",
    "    if gdf.crs != ds.rio.crs:\n",
    "        gdf = gdf.to_crs(ds.rio.crs)\n",
    "\n",
    "    # 3. Clip by the GeoDataFrame’s geometries\n",
    "    clipped = ds.rio.clip(gdf.geometry, ds.rio.crs, drop=True)\n",
    "\n",
    "    # 4. Reproject to EPSG:4326\n",
    "    clipped_4326 = clipped.rio.reproject(\"EPSG:4326\")\n",
    "\n",
    "    # 5. (Optional) save to a new NetCDF in 4326\n",
    "    if output_path:\n",
    "        clipped_4326.to_netcdf(output_path)\n",
    "\n",
    "    return clipped_4326"
   ]
  },
  {
   "cell_type": "code",
   "execution_count": 38,
   "id": "a29fa6d4",
   "metadata": {},
   "outputs": [],
   "source": [
    "# Example usage:\n",
    "netcdf_path = r\"C:\\Users\\TyHow\\MinersAI Dropbox\\Science\\Geo Data\\Canada\\Quebec\\processed_data\\Quebec_Thorium_75m_QL_F.nc\"\n",
    "geojson_path = r\"C:\\Users\\TyHow\\MinersAI Dropbox\\Tyler Howe\\QuebecProject\\geo_data\\QuebecROI_2.geojson\"\n",
    "\n",
    "input_nc = Path(netcdf_path)\n",
    "output_nc = input_nc.with_name(input_nc.stem + \"_CLIPPED\" + input_nc.suffix)\n",
    "\n",
    "\n",
    "clipped_ds = clip_netcdf_by_geojson(\n",
    "    netcdf_path, geojson_path, output_nc, input_crs=6622\n",
    ")"
   ]
  },
  {
   "cell_type": "code",
   "execution_count": null,
   "id": "b204a63a",
   "metadata": {},
   "outputs": [],
   "source": []
  }
 ],
 "metadata": {
  "kernelspec": {
   "display_name": "geo_env",
   "language": "python",
   "name": "python3"
  },
  "language_info": {
   "codemirror_mode": {
    "name": "ipython",
    "version": 3
   },
   "file_extension": ".py",
   "mimetype": "text/x-python",
   "name": "python",
   "nbconvert_exporter": "python",
   "pygments_lexer": "ipython3",
   "version": "3.13.2"
  }
 },
 "nbformat": 4,
 "nbformat_minor": 5
}
