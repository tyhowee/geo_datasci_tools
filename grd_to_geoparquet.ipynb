{
 "cells": [
  {
   "cell_type": "code",
   "execution_count": 14,
   "metadata": {},
   "outputs": [],
   "source": [
    "import harmonica as hm\n",
    "import xarray as xr"
   ]
  },
  {
   "cell_type": "code",
   "execution_count": 15,
   "metadata": {},
   "outputs": [],
   "source": [
    "path = '/Users/thowe/Desktop/Quebec_MAG_DV1_GRD/Quebec_MAG_DV1_GRD.grd'\n",
    "\n",
    "da = hm.load_oasis_montaj_grid(fname=path)"
   ]
  },
  {
   "cell_type": "code",
   "execution_count": 16,
   "metadata": {},
   "outputs": [
    {
     "name": "stdout",
     "output_type": "stream",
     "text": [
      "Dimensions: ('northing', 'easting')\n",
      "Shape: (28253, 22760)\n",
      "Coordinates: ['easting', 'northing']\n",
      "\n",
      "Attributes:\n",
      "  n_bytes_per_element: 4\n",
      "  sign_flag: 2\n",
      "  shape_e: 22760\n",
      "  shape_v: 28253\n",
      "  ordering: 1\n",
      "  spacing_e: 75.0\n",
      "  spacing_v: 75.0\n",
      "  x_origin: -876975.0\n",
      "  y_origin: 13500.0\n",
      "  rotation: 0.0\n",
      "  base_value: 0.0\n",
      "  data_factor: 1.0\n",
      "  map_projection: 0\n",
      "  units_x: 0\n",
      "  units_y: 0\n",
      "  units_z: 0\n",
      "  n_valid_points: 195867186\n",
      "  grid_min: -219.20159912109375\n",
      "  grid_max: 363.04364013671875\n",
      "  grid_median: 0.0\n",
      "  grid_mean: -0.0002776627952698618\n",
      "  grid_variance: 0.9875565402201316\n",
      "  process_flag: 0\n",
      "\n",
      "Data Summary (ignoring NaNs):\n",
      "  Min: -219.20159912109375\n",
      "  Max: 363.04364013671875\n",
      "  Mean: -0.00027766279840912817\n",
      "  Std Dev: 0.9937587912455751\n",
      "  % NaNs: 69.5403536473754 %\n"
     ]
    }
   ],
   "source": [
    "# Print basic info\n",
    "print(\"Dimensions:\", da.dims)\n",
    "print(\"Shape:\", da.shape)\n",
    "print(\"Coordinates:\", list(da.coords))\n",
    "\n",
    "# Print all attributes\n",
    "print(\"\\nAttributes:\")\n",
    "for attr_name, attr_value in da.attrs.items():\n",
    "    print(f\"  {attr_name}: {attr_value}\")\n",
    "\n",
    "# Print data summary\n",
    "print(\"\\nData Summary (ignoring NaNs):\")\n",
    "print(\"  Min:\", float(da.min(skipna=True)))\n",
    "print(\"  Max:\", float(da.max(skipna=True)))\n",
    "print(\"  Mean:\", float(da.mean(skipna=True)))\n",
    "print(\"  Std Dev:\", float(da.std(skipna=True)))\n",
    "print(\"  % NaNs:\", float(da.isnull().sum() / da.size * 100), \"%\")"
   ]
  },
  {
   "cell_type": "code",
   "execution_count": 17,
   "metadata": {},
   "outputs": [],
   "source": [
    "# Export to NetCDF file.\n",
    "output_path = '/Users/thowe/Desktop/Quebec_MAG_DV1_GRD/Quebec_MAG_DV1_GRD.nc'\n",
    "\n",
    "# Wrap in a Dataset with a variable name\n",
    "wrapped = xr.Dataset({\"magnetics\": ds})\n",
    "\n",
    "# Save it\n",
    "wrapped.to_netcdf(output_path)"
   ]
  },
  {
   "cell_type": "code",
   "execution_count": null,
   "metadata": {},
   "outputs": [],
   "source": []
  }
 ],
 "metadata": {
  "kernelspec": {
   "display_name": "geo_env",
   "language": "python",
   "name": "python3"
  },
  "language_info": {
   "codemirror_mode": {
    "name": "ipython",
    "version": 3
   },
   "file_extension": ".py",
   "mimetype": "text/x-python",
   "name": "python",
   "nbconvert_exporter": "python",
   "pygments_lexer": "ipython3",
   "version": "3.12.5"
  }
 },
 "nbformat": 4,
 "nbformat_minor": 2
}
