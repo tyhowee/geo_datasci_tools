{
 "cells": [
  {
   "cell_type": "code",
   "execution_count": 8,
   "metadata": {},
   "outputs": [],
   "source": [
    "import struct\n",
    "import numpy as np\n",
    "from affine import Affine\n",
    "from shapely.geometry import box\n",
    "import geopandas as gpd\n"
   ]
  },
  {
   "cell_type": "code",
   "execution_count": 9,
   "metadata": {},
   "outputs": [],
   "source": [
    "def read_geosoft_grid(file_path):\n",
    "    \"\"\"\n",
    "    A hypothetical parser for a Geosoft Grid file.\n",
    "    This example assumes the header contains:\n",
    "      - width (int32)\n",
    "      - height (int32)\n",
    "      - minx (float64)\n",
    "      - miny (float64)\n",
    "      - maxx (float64)\n",
    "      - maxy (float64)\n",
    "    followed by width*height cells of float32 data.\n",
    "    \n",
    "    You will need to modify this based on the actual file format specification.\n",
    "    \"\"\"\n",
    "    with open(file_path, 'rb') as f:\n",
    "        # Read grid dimensions (assuming 4-byte integers)\n",
    "        width_bytes = f.read(4)\n",
    "        height_bytes = f.read(4)\n",
    "        width = struct.unpack('i', width_bytes)[0]\n",
    "        height = struct.unpack('i', height_bytes)[0]\n",
    "        \n",
    "        # Read spatial extent (assuming 8-byte float [double] values)\n",
    "        minx = struct.unpack('d', f.read(8))[0]\n",
    "        miny = struct.unpack('d', f.read(8))[0]\n",
    "        maxx = struct.unpack('d', f.read(8))[0]\n",
    "        maxy = struct.unpack('d', f.read(8))[0]\n",
    "        \n",
    "        # Create an affine transform from the extents and dimensions.\n",
    "        # Here we assume the grid is organized with the upper-left corner at (minx, maxy).\n",
    "        x_res = (maxx - minx) / width\n",
    "        y_res = (maxy - miny) / height\n",
    "        transform = Affine.translation(minx, maxy) * Affine.scale(x_res, -y_res)\n",
    "        \n",
    "        # Now read the grid values (assuming 4-byte float per cell)\n",
    "        num_cells = width * height\n",
    "        data = np.fromfile(f, dtype=np.float32, count=num_cells)\n",
    "        data = data.reshape((height, width))\n",
    "    \n",
    "    return data, transform, width, height\n",
    "\n",
    "def geosoft_grid_to_geoparquet(input_file, output_file):\n",
    "    # Parse the geosoft grid file\n",
    "    data, transform, width, height = read_geosoft_grid(input_file)\n",
    "    features = []\n",
    "    \n",
    "    # Loop through each cell of the grid\n",
    "    for row in range(height):\n",
    "        for col in range(width):\n",
    "            value = data[row, col]\n",
    "            # Compute cell boundaries from the affine transform\n",
    "            x_left, y_top = transform * (col, row)\n",
    "            x_right, y_bottom = transform * (col+1, row+1)\n",
    "            cell_polygon = box(x_left, y_bottom, x_right, y_top)\n",
    "            features.append({'geometry': cell_polygon, 'value': value})\n",
    "    \n",
    "    # Define the CRS. Based on your metadata, the projection is \"NAD83(CSRS) / Quebec Lambert\" (EPSG:6622)\n",
    "    crs = \"EPSG:6622\"\n",
    "    \n",
    "    # Create a GeoDataFrame and export it as a GeoParquet file.\n",
    "    gdf = gpd.GeoDataFrame(features, crs=crs)\n",
    "    gdf.to_parquet(output_file)\n",
    "    print(f\"Conversion complete. Output saved to {output_file}\")\n"
   ]
  },
  {
   "cell_type": "code",
   "execution_count": null,
   "metadata": {},
   "outputs": [],
   "source": [
    "# Example usage:\n",
    "input_file = '/Users/thowe/MinersAI Dropbox/Science/Geo Data/Canada/Quebec/Geophysics/Magnetics/High Res/Quebec_MAG_DV1_GRD/Quebec_MAG_DV1_GRD.grd'   \n",
    "\n",
    "output_file = '/Users/thowe/MinersAI Dropbox/Tyler Howe/QuebecProject/geo_data/output.parquet'  \n",
    "\n",
    "geosoft_grid_to_geoparquet(input_file, output_file)"
   ]
  },
  {
   "cell_type": "code",
   "execution_count": null,
   "metadata": {},
   "outputs": [],
   "source": []
  }
 ],
 "metadata": {
  "kernelspec": {
   "display_name": "geo_env",
   "language": "python",
   "name": "python3"
  },
  "language_info": {
   "codemirror_mode": {
    "name": "ipython",
    "version": 3
   },
   "file_extension": ".py",
   "mimetype": "text/x-python",
   "name": "python",
   "nbconvert_exporter": "python",
   "pygments_lexer": "ipython3",
   "version": "3.12.5"
  }
 },
 "nbformat": 4,
 "nbformat_minor": 2
}
