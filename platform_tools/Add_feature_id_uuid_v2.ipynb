{
 "cells": [
  {
   "cell_type": "markdown",
   "metadata": {},
   "source": [
    "# Add feature ID and UUID V2"
   ]
  },
  {
   "cell_type": "code",
   "execution_count": 1,
   "metadata": {},
   "outputs": [],
   "source": [
    "import geopandas as gpd\n",
    "import uuid\n",
    "import os\n",
    "\n",
    "\n",
    "def add_fields_to_geojson(file_path, add_id=True, add_uuid=True):\n",
    "    # Read the GeoJSON file\n",
    "    gdf = gpd.read_file(file_path)\n",
    "\n",
    "    # Add an \"id\" field at the end of the DataFrame\n",
    "    if add_id:\n",
    "        gdf[\"id\"] = range(len(gdf))\n",
    "\n",
    "    # Add a \"uuid\" field at the end of the DataFrame\n",
    "    if add_uuid:\n",
    "        gdf[\"uuid\"] = [str(uuid.uuid4().hex) for _ in range(len(gdf))]\n",
    "\n",
    "    # Get the base name and extension of the input file\n",
    "    base_name, ext = os.path.splitext(file_path)\n",
    "\n",
    "    # Create the output file path with the suffix \"_id_uuid_added\"\n",
    "    output_file_path = f\"{base_name}_id_uuid_added{ext}\"\n",
    "\n",
    "    # Write the modified GeoDataFrame to the output file\n",
    "    gdf.to_file(output_file_path, driver=\"GeoJSON\")\n",
    "\n"
   ]
  },
  {
   "cell_type": "code",
   "execution_count": 2,
   "metadata": {},
   "outputs": [],
   "source": [
    "# Example usage:\n",
    "file_path = r\"C:\\Users\\TyHow\\MinersAI Dropbox\\Science\\Geo Data\\Niger\\Geologic Maps\\arlit_region_geology_macrostrat.geojson\"\n",
    "add_fields_to_geojson(file_path, add_id=True, add_uuid=True)"
   ]
  },
  {
   "cell_type": "code",
   "execution_count": null,
   "metadata": {},
   "outputs": [],
   "source": []
  }
 ],
 "metadata": {
  "kernelspec": {
   "display_name": "geo_env",
   "language": "python",
   "name": "python3"
  },
  "language_info": {
   "codemirror_mode": {
    "name": "ipython",
    "version": 3
   },
   "file_extension": ".py",
   "mimetype": "text/x-python",
   "name": "python",
   "nbconvert_exporter": "python",
   "pygments_lexer": "ipython3",
   "version": "3.13.2"
  }
 },
 "nbformat": 4,
 "nbformat_minor": 2
}
