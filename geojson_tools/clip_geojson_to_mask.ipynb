{
 "cells": [
  {
   "cell_type": "code",
   "execution_count": null,
   "id": "02f2cb8d",
   "metadata": {},
   "outputs": [],
   "source": [
    "import geopandas as gpd\n",
    "from osgeo import gdal\n",
    "gdal.UseExceptions()"
   ]
  },
  {
   "cell_type": "code",
   "execution_count": null,
   "id": "933dff61",
   "metadata": {},
   "outputs": [],
   "source": [
    "# Load data and clipping region\n",
    "\n",
    "geojson_path = r\"C:\\Users\\TyHow\\MinersAI Dropbox\\Science\\Geo Data\\France\\Sibelco Pilot Project\\Public Datasets\\hotosm_fra_buildings_polygons_geojson\\hotosm_fra_buildings_polygons_geojson.geojson\"\n",
    "mask_path = r\"C:\\Users\\TyHow\\MinersAI Dropbox\\Tyler Howe\\Sibelco_Stuff\\DATACUBE\\sibelco_ML_pilot_region.geojson\"\n",
    "gpkg_path = geojson_path.replace(\".geojson\", \".gpkg\")\n",
    "\n",
    "output_path = r\"C:\\Users\\TyHow\\MinersAI Dropbox\\Tyler Howe\\Sibelco_Stuff\\DATACUBE\\hotosm_fra_buildings_polygons_geojson_clipped.geojson\""
   ]
  },
  {
   "cell_type": "code",
   "execution_count": null,
   "id": "a9aa5370",
   "metadata": {},
   "outputs": [],
   "source": [
    "# convert to GPKG with SPATIAL_INDEX\n",
    "gdal.VectorTranslate(\n",
    "    gpkg_path, geojson_path, format=\"GPKG\", options=[\"-lco\", \"SPATIAL_INDEX=YES\"]\n",
    ")"
   ]
  },
  {
   "cell_type": "code",
   "execution_count": null,
   "id": "202fb8f9",
   "metadata": {},
   "outputs": [],
   "source": [
    "# use gdal to clip the vector data\n",
    "gdal.VectorTranslate(\n",
    "    output_path, gpkg_path, format=\"GeoJSON\", options=[\"-clipsrc\", mask_path]\n",
    ")"
   ]
  },
  {
   "cell_type": "code",
   "execution_count": null,
   "id": "6e0483e3",
   "metadata": {},
   "outputs": [],
   "source": []
  }
 ],
 "metadata": {
  "kernelspec": {
   "display_name": "geo_env",
   "language": "python",
   "name": "python3"
  },
  "language_info": {
   "name": "python",
   "version": "3.13.2"
  }
 },
 "nbformat": 4,
 "nbformat_minor": 5
}
