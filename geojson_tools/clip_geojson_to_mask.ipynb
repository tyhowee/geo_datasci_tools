{
 "cells": [
  {
   "cell_type": "code",
   "execution_count": 1,
   "id": "02f2cb8d",
   "metadata": {},
   "outputs": [],
   "source": [
    "import geopandas as gpd\n",
    "from osgeo import gdal\n",
    "gdal.UseExceptions()"
   ]
  },
  {
   "cell_type": "code",
   "execution_count": null,
   "id": "933dff61",
   "metadata": {},
   "outputs": [],
   "source": [
    "# Load data and clipping region\n",
    "\n",
    "geojson_path = (\n",
    "    r\"C:\\Users\\TyHow\\MinersAI Dropbox\\Tyler Howe\\Sibelco_Stuff\\protected_areas.geojson\"\n",
    ")\n",
    "mask_path = r\"C:\\Users\\TyHow\\MinersAI Dropbox\\Tyler Howe\\Sibelco_Stuff\\DATACUBE\\sibelco_ML_pilot_region.geojson\"\n",
    "gpkg_path = geojson_path.replace(\".geojson\", \".gpkg\")\n",
    "\n",
    "output_path = r\"C:\\Users\\TyHow\\MinersAI Dropbox\\Tyler Howe\\Sibelco_Stuff\\protected_areas_clipped.geojson\""
   ]
  },
  {
   "cell_type": "code",
   "execution_count": 3,
   "id": "a9aa5370",
   "metadata": {},
   "outputs": [
    {
     "data": {
      "text/plain": [
       "<osgeo.gdal.Dataset; proxy of <Swig Object of type 'GDALDatasetShadow *' at 0x0000016C6F53CC90> >"
      ]
     },
     "execution_count": 3,
     "metadata": {},
     "output_type": "execute_result"
    }
   ],
   "source": [
    "# convert to GPKG with SPATIAL_INDEX\n",
    "gdal.VectorTranslate(\n",
    "    gpkg_path, geojson_path, format=\"GPKG\", options=[\"-lco\", \"SPATIAL_INDEX=YES\"]\n",
    ")"
   ]
  },
  {
   "cell_type": "code",
   "execution_count": 4,
   "id": "202fb8f9",
   "metadata": {},
   "outputs": [
    {
     "data": {
      "text/plain": [
       "<osgeo.gdal.Dataset; proxy of <Swig Object of type 'GDALDatasetShadow *' at 0x0000016C6CDDE520> >"
      ]
     },
     "execution_count": 4,
     "metadata": {},
     "output_type": "execute_result"
    }
   ],
   "source": [
    "# use gdal to clip the vector data\n",
    "gdal.VectorTranslate(\n",
    "    output_path, gpkg_path, format=\"GeoJSON\", options=[\"-clipsrc\", mask_path]\n",
    ")"
   ]
  },
  {
   "cell_type": "code",
   "execution_count": null,
   "id": "6e0483e3",
   "metadata": {},
   "outputs": [],
   "source": []
  }
 ],
 "metadata": {
  "kernelspec": {
   "display_name": "geo_env",
   "language": "python",
   "name": "python3"
  },
  "language_info": {
   "codemirror_mode": {
    "name": "ipython",
    "version": 3
   },
   "file_extension": ".py",
   "mimetype": "text/x-python",
   "name": "python",
   "nbconvert_exporter": "python",
   "pygments_lexer": "ipython3",
   "version": "3.13.2"
  }
 },
 "nbformat": 4,
 "nbformat_minor": 5
}
