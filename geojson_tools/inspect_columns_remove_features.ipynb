{
 "cells": [
  {
   "cell_type": "code",
   "execution_count": 1,
   "id": "6892ae77",
   "metadata": {},
   "outputs": [],
   "source": [
    "## 1. Load GeoJSON and Dependencies\n",
    "import geopandas as gpd\n",
    "\n",
    "# Prompt for input file\n",
    "input_path = r\"C:\\Users\\TyHow\\MinersAI Dropbox\\Tyler Howe\\Sibelco_Stuff\\roads.geojson\"\n",
    "gdf = gpd.read_file(input_path)\n"
   ]
  },
  {
   "cell_type": "code",
   "execution_count": 2,
   "id": "b0e056a5",
   "metadata": {},
   "outputs": [
    {
     "name": "stdout",
     "output_type": "stream",
     "text": [
      "Available columns:\n",
      "- ID\n",
      "- NATURE\n",
      "- NOM_COLL_G\n",
      "- NOM_COLL_D\n",
      "- IMPORTANCE\n",
      "- FICTIF\n",
      "- POS_SOL\n",
      "- ETAT\n",
      "- DATE_CREAT\n",
      "- DATE_MAJ\n",
      "- DATE_APP\n",
      "- DATE_CONF\n",
      "- SOURCE\n",
      "- ID_SOURCE\n",
      "- ACQU_PLANI\n",
      "- PREC_PLANI\n",
      "- ACQU_ALTI\n",
      "- PREC_ALTI\n",
      "- NB_VOIES\n",
      "- LARGEUR\n",
      "- IT_VERT\n",
      "- PRIVE\n",
      "- SENS\n",
      "- BUS\n",
      "- URBAIN\n",
      "- VIT_MOY_VL\n",
      "- ACCES_VL\n",
      "- ACCES_PED\n",
      "- FERMETURE\n",
      "- NAT_RESTR\n",
      "- RESTR_H\n",
      "- RESTR_P\n",
      "- RESTR_PPE\n",
      "- RESTR_LAR\n",
      "- RESTR_LON\n",
      "- RESTR_MAT\n",
      "- BORNEDEB_G\n",
      "- BORNEDEB_D\n",
      "- BORNEFIN_G\n",
      "- BORNEFIN_D\n",
      "- INSEECOM_G\n",
      "- INSEECOM_D\n",
      "- ALIAS_G\n",
      "- ALIAS_D\n",
      "- DATE_SERV\n",
      "- ID_RN\n",
      "- ID_ITI\n",
      "- NUMERO\n",
      "- NUM_EUROP\n",
      "- CL_ADMIN\n",
      "- GESTION\n",
      "- TOPONYME\n",
      "- ITI_CYCL\n",
      "- VOIE_VERTE\n",
      "- NATURE_ITI\n",
      "- NOM_ITI\n",
      "- DELESTAGE\n",
      "- SRC_BAN_G\n",
      "- SRC_BAN_D\n",
      "- NOM_BAN_G\n",
      "- NOM_BAN_D\n",
      "- LD_BAN_G\n",
      "- LD_BAN_D\n",
      "- ID_BAN_G\n",
      "- ID_BAN_D\n",
      "- SENS_CYC_G\n",
      "- SENS_CYC_D\n",
      "- CYCLABLE_G\n",
      "- CYCLABLE_D\n",
      "- RETOURDFCI\n",
      "- GAB_DFCI\n",
      "- IMPAS_DFCI\n",
      "- NDET_DFCI\n",
      "- OALIM_DFCI\n",
      "- PTMAX_DFCI\n",
      "- PISTE_DFCI\n",
      "- DFCI_DEBRO\n",
      "- DFCI_FOSSE\n",
      "- SENS_DFCI\n",
      "- TERR_DFCI\n",
      "- VIT_DFCI\n",
      "- CROIS_DFCI\n",
      "- CAT_DFCI\n",
      "- geometry\n"
     ]
    }
   ],
   "source": [
    "print(\"Available columns:\")\n",
    "for col in gdf.columns:\n",
    "    print(f\"- {col}\")"
   ]
  },
  {
   "cell_type": "code",
   "execution_count": 3,
   "id": "422ea1a1",
   "metadata": {},
   "outputs": [
    {
     "name": "stdout",
     "output_type": "stream",
     "text": [
      "Unique values in 'NATURE':\n",
      " • Sentier\n",
      " • Chemin\n",
      " • Route à 1 chaussée\n",
      " • Route empierrée\n",
      " • Escalier\n",
      " • Rond-point\n",
      " • Route à 2 chaussées\n",
      " • Type autoroutier\n",
      " • Bretelle\n"
     ]
    }
   ],
   "source": [
    "col = \"NATURE\"\n",
    "if col not in gdf.columns:\n",
    "    raise KeyError(f\"Column '{col}' not found\")\n",
    "uniques = gdf[col].unique()\n",
    "print(f\"Unique values in '{col}':\")\n",
    "for v in uniques:\n",
    "    print(f\" • {v}\")"
   ]
  },
  {
   "cell_type": "code",
   "execution_count": 9,
   "id": "6bd3598e",
   "metadata": {},
   "outputs": [
    {
     "name": "stdout",
     "output_type": "stream",
     "text": [
      "➡ 3037 features after filtering\n"
     ]
    }
   ],
   "source": [
    "vals = major_vals = \"Route à 2 chaussées, Type autoroutier, Bretelle\"\n",
    "keep = [v.strip() for v in vals.split(\",\")]\n",
    "filtered = gdf[gdf[col].isin(keep)]\n",
    "print(f\"➡ {len(filtered)} features after filtering\")"
   ]
  },
  {
   "cell_type": "code",
   "execution_count": 10,
   "id": "52b9112b",
   "metadata": {},
   "outputs": [
    {
     "name": "stdout",
     "output_type": "stream",
     "text": [
      "Saved filtered GeoJSON to C:\\Users\\TyHow\\MinersAI Dropbox\\Tyler Howe\\Sibelco_Stuff\\major_roads.geojson\n"
     ]
    }
   ],
   "source": [
    "out_path = r\"C:\\Users\\TyHow\\MinersAI Dropbox\\Tyler Howe\\Sibelco_Stuff\\major_roads.geojson\"\n",
    "filtered.to_file(out_path, driver=\"GeoJSON\")\n",
    "print(f\"Saved filtered GeoJSON to {out_path}\")"
   ]
  },
  {
   "cell_type": "code",
   "execution_count": null,
   "id": "9e51c019",
   "metadata": {},
   "outputs": [],
   "source": []
  }
 ],
 "metadata": {
  "kernelspec": {
   "display_name": "geo_env",
   "language": "python",
   "name": "python3"
  },
  "language_info": {
   "codemirror_mode": {
    "name": "ipython",
    "version": 3
   },
   "file_extension": ".py",
   "mimetype": "text/x-python",
   "name": "python",
   "nbconvert_exporter": "python",
   "pygments_lexer": "ipython3",
   "version": "3.13.2"
  }
 },
 "nbformat": 4,
 "nbformat_minor": 5
}
