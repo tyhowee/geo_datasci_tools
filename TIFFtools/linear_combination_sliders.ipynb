{
 "cells": [
  {
   "cell_type": "code",
   "execution_count": null,
   "id": "a94397eb",
   "metadata": {},
   "outputs": [],
   "source": [
    "import rasterio, numpy as np, matplotlib.pyplot as plt\n",
    "from ipywidgets import interact, FloatSlider\n"
   ]
  },
  {
   "cell_type": "code",
   "execution_count": null,
   "id": "4ae095ff",
   "metadata": {},
   "outputs": [],
   "source": [
    "\n",
    "# 1. Paths to your rasters (ML map + distance layers + binary mask)\n",
    "\n",
    "ML_path =\n",
    "roads_path =\n",
    "power_path =\n",
    "rail_path =\n",
    "developed_mask_path =\n",
    "\n",
    "paths = [ML_path, roads_path, power_path, rail_path, developed_mask_path]\n"
   ]
  },
  {
   "cell_type": "code",
   "execution_count": null,
   "id": "0dd9a0b0",
   "metadata": {},
   "outputs": [],
   "source": [
    "\n",
    "# 2. Read them all into numpy arrays\n",
    "arrays = []\n",
    "for p in paths:\n",
    "    with rasterio.open(p) as src:\n",
    "        arrays.append(src.read(1).astype(float))\n",
    "        meta = src.meta  # we just need one for extent\n",
    "\n",
    "# 3. Normalize each to 0–1\n",
    "norm = [(a - np.nanmin(a)) / (np.nanmax(a) - np.nanmin(a)) for a in arrays]\n",
    "\n",
    "# 4. Precompute map extent\n",
    "t = meta[\"transform\"]\n",
    "xmin, ymax = t[2], t[5]\n",
    "xmax = xmin + t[0] * meta[\"width\"]\n",
    "ymin = ymax + t[4] * meta[\"height\"]\n",
    "extent = (xmin, xmax, ymin, ymax)\n",
    "\n",
    "\n",
    "# 5. Define plotting function\n",
    "def show_map(**weights):\n",
    "    combo = np.zeros_like(norm[0])\n",
    "    for i, (w) in enumerate(weights.values()):\n",
    "        combo += w * norm[i]\n",
    "    plt.figure(figsize=(6, 5))\n",
    "    plt.imshow(combo, extent=extent, origin=\"upper\", cmap=\"viridis\")\n",
    "    plt.colorbar(label=\"Weighted sum\")\n",
    "    plt.axis(\"off\")\n",
    "    plt.title(\"Interactive Linear Combination\")\n",
    "\n",
    "\n",
    "# 6. Build sliders and hook them up\n",
    "sliders = {\n",
    "    f\"w_{i}\": FloatSlider(\n",
    "        min=0, max=1, step=0.01, value=0.2, description=paths[i].split(\".\")[0]\n",
    "    )\n",
    "    for i in range(len(paths))\n",
    "}\n",
    "interact(show_map, **sliders)"
   ]
  }
 ],
 "metadata": {
  "kernelspec": {
   "display_name": "geo_env",
   "language": "python",
   "name": "python3"
  },
  "language_info": {
   "name": "python",
   "version": "3.13.2"
  }
 },
 "nbformat": 4,
 "nbformat_minor": 5
}
