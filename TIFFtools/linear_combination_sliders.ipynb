{
 "cells": [
  {
   "cell_type": "code",
   "execution_count": 36,
   "id": "a94397eb",
   "metadata": {},
   "outputs": [],
   "source": [
    "import rasterio, numpy as np\n",
    "from ipywidgets import FloatSlider, IntSlider, interact, Layout\n",
    "from rasterio.warp import Resampling\n",
    "import numpy as np\n",
    "import matplotlib.pyplot as plt\n",
    "import os"
   ]
  },
  {
   "cell_type": "code",
   "execution_count": 37,
   "id": "4ae095ff",
   "metadata": {},
   "outputs": [],
   "source": [
    "# 1. Paths to your rasters (ML map + distance layers + binary mask)\n",
    "\n",
    "ML_path = r\"C:\\Users\\TyHow\\MinersAI Dropbox\\Tyler Howe\\Sibelco_Stuff\\linear_combination_layers\\averaged_probability_map_smoothed_thresholded_95th_percentile.tif\"\n",
    "roads_path = r\"C:\\Users\\TyHow\\MinersAI Dropbox\\Tyler Howe\\Sibelco_Stuff\\linear_combination_layers\\infrastructure\\roads_vector.tif\"\n",
    "power_path = r\"C:\\Users\\TyHow\\MinersAI Dropbox\\Tyler Howe\\Sibelco_Stuff\\linear_combination_layers\\infrastructure\\powerlines_vector.tif\"\n",
    "rail_path = r\"C:\\Users\\TyHow\\MinersAI Dropbox\\Tyler Howe\\Sibelco_Stuff\\linear_combination_layers\\infrastructure\\railways_vector.tif\"\n",
    "developed_mask_path = r\"C:\\Users\\TyHow\\MinersAI Dropbox\\Tyler Howe\\Sibelco_Stuff\\linear_combination_layers\\infrastructure\\town_mask_continuous.tif\"\n",
    "\n",
    "paths = [ML_path, roads_path, power_path, rail_path, developed_mask_path]"
   ]
  },
  {
   "cell_type": "code",
   "execution_count": 40,
   "id": "0dd9a0b0",
   "metadata": {},
   "outputs": [],
   "source": [
    "# open first file to define target grid\n",
    "with rasterio.open(paths[0]) as ref:\n",
    "    ref_meta = ref.meta.copy()\n",
    "    target_height = ref.height\n",
    "    target_width = ref.width\n",
    "    target_transform = ref.transform\n",
    "    target_crs = ref.crs\n",
    "    H, W = ref.height, ref.width\n",
    "\n",
    "arrays = []\n",
    "for p in paths:\n",
    "    with rasterio.open(p) as src:\n",
    "        resamp = Resampling.nearest if p == developed_mask_path else Resampling.bilinear\n",
    "        arr = src.read(1, out_shape=(H, W), resampling=resamp).astype(float)\n",
    "        arrays.append(arr)\n",
    "\n",
    "# separate out town mask index\n",
    "infra_maps = arrays[1:]\n",
    "infra_names = [os.path.splitext(os.path.basename(p))[0] for p in paths[1:]]\n",
    "mins = [float(np.nanmin(m)) for m in infra_maps]\n",
    "maxs = [float(np.nanmax(m)) for m in infra_maps]\n",
    "\n",
    "xmin = ref_meta[\"transform\"][2]\n",
    "ymax = ref_meta[\"transform\"][5]\n",
    "xmax = xmin + ref_meta[\"transform\"][0] * target_width\n",
    "ymin = ymax + ref_meta[\"transform\"][4] * target_height\n",
    "extent = (xmin, xmax, ymin, ymax)"
   ]
  },
  {
   "cell_type": "code",
   "execution_count": null,
   "id": "b1f4d950",
   "metadata": {},
   "outputs": [
    {
     "data": {
      "application/vnd.jupyter.widget-view+json": {
       "model_id": "4baa019de6f74d699e9c2fbd2e12b62a",
       "version_major": 2,
       "version_minor": 0
      },
      "text/plain": [
       "interactive(children=(FloatSlider(value=92.90148162841797, description='roads_vector', layout=Layout(width='45…"
      ]
     },
     "metadata": {},
     "output_type": "display_data"
    },
    {
     "data": {
      "text/plain": [
       "<function __main__.show_map(**thresholds)>"
      ]
     },
     "execution_count": 41,
     "metadata": {},
     "output_type": "execute_result"
    }
   ],
   "source": [
    "# separate ML base and infra layers\n",
    "ml_map = arrays[0]\n",
    "infra_maps = arrays[1:]\n",
    "infra_names = [os.path.splitext(os.path.basename(p))[0] for p in paths[1:]]\n",
    "\n",
    "# compute slider ranges from the raw infra maps\n",
    "infra_mins = [float(np.nanmin(m)) for m in infra_maps]\n",
    "infra_maxs = [float(np.nanmax(m)) for m in infra_maps]\n",
    "\n",
    "\n",
    "def show_map(**thresholds):\n",
    "    # start with the ML map\n",
    "    filtered = ml_map.copy()\n",
    "    # for each infra layer, zero out ML where infra > threshold\n",
    "    for name, layer in zip(infra_names, infra_maps):\n",
    "        t = thresholds[name]\n",
    "        filtered[layer > t] = 0\n",
    "    # plot\n",
    "    plt.figure(figsize=(12, 10))\n",
    "    plt.imshow(filtered, extent=extent, origin=\"upper\", cmap=\"viridis\")\n",
    "    plt.colorbar(label=\"Filtered ML probability\")\n",
    "    plt.axis(\"off\")\n",
    "    plt.title(\"ML output within user‐defined cutoffs\")\n",
    "\n",
    "\n",
    "# build one slider per infra layer, using its raw min/max\n",
    "DESC_W, WIDGET_W = \"180px\", \"450px\"\n",
    "# build sliders\n",
    "sliders = {}\n",
    "for name, mn, mx in zip(infra_names, mins, maxs):\n",
    "    if name == os.path.splitext(os.path.basename(developed_mask_path))[0]:\n",
    "        # integer counts\n",
    "        sliders[name] = IntSlider(\n",
    "            value=int(mx),\n",
    "            min=int(mn),\n",
    "            max=int(mx),\n",
    "            step=1,\n",
    "            description=name,\n",
    "            style={\"description_width\": \"180px\"},\n",
    "            layout=Layout(width=\"450px\"),\n",
    "        )\n",
    "    else:\n",
    "        sliders[name] = FloatSlider(\n",
    "            value=mx,\n",
    "            min=mn,\n",
    "            max=mx,\n",
    "            step=(mx - mn) / 100 or 1,\n",
    "            description=name,\n",
    "            style={\"description_width\": \"180px\"},\n",
    "            layout=Layout(width=\"450px\"),\n",
    "        )\n",
    "\n",
    "\n",
    "def show_map(**thresholds):\n",
    "    filtered = ml_map.copy()\n",
    "    for name, layer in zip(infra_names, infra_maps):\n",
    "        t = thresholds[name]\n",
    "        filtered[layer > t] = 0\n",
    "    plt.figure(figsize=(12, 10))\n",
    "    plt.imshow(filtered, extent=extent, origin=\"upper\", cmap=\"viridis\")\n",
    "    plt.axis(\"off\")\n",
    "\n",
    "\n",
    "interact(show_map, **sliders)"
   ]
  },
  {
   "cell_type": "code",
   "execution_count": 42,
   "id": "9d8d78cb",
   "metadata": {},
   "outputs": [
    {
     "name": "stdout",
     "output_type": "stream",
     "text": [
      "Saved filtered map to C:\\Users\\TyHow\\MinersAI Dropbox\\Tyler Howe\\Sibelco_Stuff\\linear_combination_layers\\combination.tif\n"
     ]
    }
   ],
   "source": [
    "# 1) Re-load your ML metadata so we preserve CRS, transform, etc.\n",
    "with rasterio.open(ML_path) as src:\n",
    "    out_meta = src.meta.copy()\n",
    "# we’re writing one band of floats\n",
    "out_meta.update(dtype=rasterio.float32, count=1)\n",
    "\n",
    "# 2) Recompute the filtered map using your sliders’ .value\n",
    "filtered = ml_map.copy()\n",
    "for name, layer in zip(infra_names, infra_maps):\n",
    "    thresh = sliders[name].value\n",
    "    # zero out ML where infra > slider threshold\n",
    "    filtered[layer > thresh] = 0\n",
    "\n",
    "# 3) Write it out\n",
    "out_path = r\"C:\\Users\\TyHow\\MinersAI Dropbox\\Tyler Howe\\Sibelco_Stuff\\linear_combination_layers\\combination.tif\"\n",
    "with rasterio.open(out_path, \"w\", **out_meta) as dst:\n",
    "    dst.write(filtered.astype(\"float32\"), 1)\n",
    "\n",
    "print(f\"Saved filtered map to {out_path}\")"
   ]
  },
  {
   "cell_type": "code",
   "execution_count": null,
   "id": "c8c7a39f",
   "metadata": {},
   "outputs": [],
   "source": []
  }
 ],
 "metadata": {
  "kernelspec": {
   "display_name": "geo_env",
   "language": "python",
   "name": "python3"
  },
  "language_info": {
   "codemirror_mode": {
    "name": "ipython",
    "version": 3
   },
   "file_extension": ".py",
   "mimetype": "text/x-python",
   "name": "python",
   "nbconvert_exporter": "python",
   "pygments_lexer": "ipython3",
   "version": "3.13.2"
  }
 },
 "nbformat": 4,
 "nbformat_minor": 5
}
