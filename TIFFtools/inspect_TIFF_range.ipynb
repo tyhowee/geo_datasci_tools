{
 "cells": [
  {
   "cell_type": "code",
   "execution_count": 1,
   "id": "0cb455d5",
   "metadata": {},
   "outputs": [],
   "source": [
    "import rasterio\n",
    "import numpy as np\n"
   ]
  },
  {
   "cell_type": "code",
   "execution_count": 2,
   "id": "30e45791",
   "metadata": {},
   "outputs": [],
   "source": [
    "\n",
    "# Path to your GeoTIFF\n",
    "geotiff_path = '/Users/thowe/MinersAI Dropbox/Tyler Howe/Sibelco_Stuff/DATACUBE/cube6/ML_outputs/stacked_results/averaged_probability_map_smoothed_thresholded_90th_percentile.tif'\n",
    "\n",
    "# Open and read the first band (or all bands)\n",
    "with rasterio.open(geotiff_path) as src:\n",
    "    # Read as a NumPy array. \n",
    "    # src.read() returns an array of shape (bands, rows, cols)\n",
    "    # To read only band 1: src.read(1)\n",
    "    arr = src.read(1)  \n"
   ]
  },
  {
   "cell_type": "code",
   "execution_count": 3,
   "id": "e40baab9",
   "metadata": {},
   "outputs": [
    {
     "name": "stdout",
     "output_type": "stream",
     "text": [
      "Value range for '/Users/thowe/MinersAI Dropbox/Tyler Howe/Sibelco_Stuff/DATACUBE/cube6/ML_outputs/stacked_results/averaged_probability_map_smoothed_thresholded_90th_percentile.tif':\n",
      "  Min = 0.0\n",
      "  Max = 1.0\n"
     ]
    }
   ],
   "source": [
    "\n",
    "# Compute min/max, ignoring no‐data values if present\n",
    "if src.nodatavals[0] is not None:\n",
    "    nodata = src.nodatavals[0]\n",
    "    arr = np.where(arr == nodata, np.nan, arr)\n",
    "\n",
    "min_val = np.nanmin(arr)\n",
    "max_val = np.nanmax(arr)\n",
    "\n",
    "print(f\"Value range for '{geotiff_path}':\")\n",
    "print(f\"  Min = {min_val}\")\n",
    "print(f\"  Max = {max_val}\")"
   ]
  },
  {
   "cell_type": "code",
   "execution_count": null,
   "id": "4f167aa9",
   "metadata": {},
   "outputs": [],
   "source": []
  }
 ],
 "metadata": {
  "kernelspec": {
   "display_name": "geo_env",
   "language": "python",
   "name": "python3"
  },
  "language_info": {
   "codemirror_mode": {
    "name": "ipython",
    "version": 3
   },
   "file_extension": ".py",
   "mimetype": "text/x-python",
   "name": "python",
   "nbconvert_exporter": "python",
   "pygments_lexer": "ipython3",
   "version": "3.12.5"
  }
 },
 "nbformat": 4,
 "nbformat_minor": 5
}
