{
 "cells": [
  {
   "cell_type": "code",
   "execution_count": 1,
   "id": "5ab800e1",
   "metadata": {},
   "outputs": [],
   "source": [
    "from pystac_client import Client\n",
    "import geopandas as gpd\n",
    "from datetime import datetime, UTC\n",
    "import stackstac\n",
    "import xarray as xr\n",
    "from shapely.geometry import Point\n",
    "from rasterio.errors import RasterioIOError\n",
    "from planetary_computer import sign_inplace\n",
    "import matplotlib.pyplot as plt\n",
    "import sentinel2indices as s2i\n",
    "from skimage.exposure import match_histograms\n",
    "import math\n",
    "from dask.diagnostics import ProgressBar\n",
    "import rioxarray\n",
    "import os\n",
    "import hashlib\n",
    "import pickle\n",
    "from tqdm import tqdm\n"
   ]
  },
  {
   "cell_type": "code",
   "execution_count": 2,
   "id": "74bf1346",
   "metadata": {},
   "outputs": [
    {
     "data": {
      "text/plain": [
       "<Axes: >"
      ]
     },
     "execution_count": 2,
     "metadata": {},
     "output_type": "execute_result"
    },
    {
     "data": {
      "image/png": "[encoded data removed]",
      "text/plain": [
       "<Figure size 640x480 with 1 Axes>"
      ]
     },
     "metadata": {},
     "output_type": "display_data"
    }
   ],
   "source": [
    "\n",
    "### CELL 1 Load Data\n",
    "\n",
    "# Connect to Planetary Computer STAC\n",
    "stac = Client.open(\"https://planetarycomputer.microsoft.com/api/stac/v1\")\n",
    "\n",
    "# Load AOI from GeoJSON file\n",
    "aoi_path = '/Users/thowe/MinersAI Dropbox/Tyler Howe/Sibelco_Stuff/DATACUBE/sibelco_ML_pilot_region.geojson'\n",
    "aoi_gdf = gpd.read_file(aoi_path)\n",
    "\n",
    "# Reproject to WGS84 if needed\n",
    "if aoi_gdf.crs != \"EPSG:4326\":\n",
    "    aoi_gdf = aoi_gdf.to_crs(\"EPSG:4326\")\n",
    "\n",
    "aoi_gdf.plot()\n"
   ]
  },
  {
   "cell_type": "code",
   "execution_count": 3,
   "id": "b5a3c991",
   "metadata": {},
   "outputs": [
    {
     "name": "stdout",
     "output_type": "stream",
     "text": [
      "Found 335 items\n"
     ]
    }
   ],
   "source": [
    "\n",
    "### CELL 2 Search STAC for low-cloud Sentinel-2 L2A items over AOI\n",
    "\n",
    "# Broad date range — Sentinel-2 L2A available since mid-2017\n",
    "start_date = \"2017-06-28\"\n",
    "end_date = datetime.now(UTC).date().isoformat()\n",
    "\n",
    "# Query STAC for clean Sentinel-2 L2A items\n",
    "search = stac.search(\n",
    "    collections=[\"sentinel-2-l2a\"],\n",
    "    intersects=aoi_gdf.geometry[0].__geo_interface__,\n",
    "    datetime=f\"{start_date}/{end_date}\",\n",
    "    query={\"eo:cloud_cover\": {\"lt\": 10}},  # low-cloud only\n",
    "    sortby=[\"eo:cloud_cover\"],  # sort by best quality\n",
    ")\n",
    "\n",
    "items = list(search.items())\n",
    "print(f\"Found {len(items)} items\")\n"
   ]
  },
  {
   "cell_type": "code",
   "execution_count": 4,
   "id": "c8c2dccd",
   "metadata": {},
   "outputs": [],
   "source": [
    "\n",
    "### CELL 3 Setup caching system\n",
    "\n",
    "# Create cache directory\n",
    "cache_dir = '/Users/thowe/sentinel2_cache'\n",
    "os.makedirs(cache_dir, exist_ok=True)\n",
    "\n",
    "def create_cache_key(s2a_items, aoi_bounds, epsg):\n",
    "    \"\"\"Create a unique cache key based on input parameters\"\"\"\n",
    "    key_data = {\n",
    "        'item_ids': [item.id for item in s2a_items],\n",
    "        'bounds': aoi_bounds.tolist(),\n",
    "        'epsg': epsg,\n",
    "        'bands': [\"B01\", \"B02\", \"B03\", \"B04\", \"B06\", \"B07\", \"B08\", \"B8A\", \"B11\", \"B12\"]\n",
    "    }\n",
    "    key_str = str(sorted(key_data.items()))\n",
    "    return hashlib.md5(key_str.encode()).hexdigest()\n",
    "\n",
    "def save_to_cache(data, cache_key, cache_dir):\n",
    "    \"\"\"Save processed data to cache\"\"\"\n",
    "    cache_path = os.path.join(cache_dir, f\"{cache_key}_composite.nc\")\n",
    "    print(f\"Saving composite to cache: {cache_path}\")\n",
    "    with ProgressBar():\n",
    "        data.to_netcdf(cache_path)\n",
    "    return cache_path\n",
    "\n",
    "def load_from_cache(cache_key, cache_dir):\n",
    "    \"\"\"Load processed data from cache\"\"\"\n",
    "    cache_path = os.path.join(cache_dir, f\"{cache_key}_composite.nc\")\n",
    "    if os.path.exists(cache_path):\n",
    "        print(f\"Loading composite from cache: {cache_path}\")\n",
    "        ds = xr.open_dataset(cache_path)\n",
    "        return ds[list(ds.data_vars.keys())[0]]  # Return the first data variable\n",
    "    return None\n"
   ]
  },
  {
   "cell_type": "code",
   "execution_count": 5,
   "id": "f5f9a1c6",
   "metadata": {},
   "outputs": [
    {
     "name": "stdout",
     "output_type": "stream",
     "text": [
      "Signing URLs...\n"
     ]
    },
    {
     "name": "stderr",
     "output_type": "stream",
     "text": [
      "Signing items: 100%|██████████| 20/20 [00:00<00:00, 25.61it/s]"
     ]
    },
    {
     "name": "stdout",
     "output_type": "stream",
     "text": [
      "Using these S2A items: ['S2A_MSIL2A_20250429T105701_R094_T31UDP_20250429T192814', 'S2A_MSIL2A_20250409T105701_R094_T31UDP_20250409T173716', 'S2A_MSIL2A_20250327T105041_R051_T31UEP_20250327T144118', 'S2A_MSIL2A_20250317T104811_R051_T31UEP_20250317T151957', 'S2A_MSIL2A_20250317T104811_R051_T31UDP_20250317T151957', 'S2A_MSIL2A_20230915T105701_R094_T31UDP_20241105T020528', 'S2A_MSIL2A_20230915T105701_R094_T31UDP_20230915T174938', 'S2A_MSIL2A_20230902T104631_R051_T31UEP_20241025T212417', 'S2A_MSIL2A_20230902T104631_R051_T31UEP_20230902T202513', 'S2A_MSIL2A_20230614T105031_R051_T31UEP_20240910T000108', 'S2A_MSIL2A_20230614T105031_R051_T31UEP_20230614T182838', 'S2A_MSIL2A_20230614T105031_R051_T31UDP_20240910T000108', 'S2A_MSIL2A_20230614T105031_R051_T31UDP_20230614T182836', 'S2A_MSIL2A_20230607T105621_R094_T31UDP_20241009T210215', 'S2A_MSIL2A_20230607T105621_R094_T31UDP_20230607T183221', 'S2A_MSIL2A_20230604T104621_R051_T31UEP_20240910T071227', 'S2A_MSIL2A_20230604T104621_R051_T31UEP_20230604T184036', 'S2A_MSIL2A_20230604T104621_R051_T31UDP_20240910T071227', 'S2A_MSIL2A_20230604T104621_R051_T31UDP_20230604T184514', 'S2A_MSIL2A_20230528T105621_R094_T31UDP_20240908T090134']\n",
      "Using EPSG from AOI centroid: 32631\n"
     ]
    },
    {
     "name": "stderr",
     "output_type": "stream",
     "text": [
      "\n"
     ]
    }
   ],
   "source": [
    "\n",
    "### CELL 4 Filter for S2A scenes and determine EPSG\n",
    "\n",
    "# Keep only S2A scenes (from all items) and sign their URLs\n",
    "s2a_items = [it for it in items if it.id.startswith(\"S2A\")][:20]\n",
    "if not s2a_items:\n",
    "    raise RuntimeError(\"No S2A scenes found—check your STAC search criteria.\")\n",
    "\n",
    "print(\"Signing URLs...\")\n",
    "for it in tqdm(s2a_items, desc=\"Signing items\"):\n",
    "    sign_inplace(it)\n",
    "\n",
    "print(\"Using these S2A items:\", [it.id for it in s2a_items])\n",
    "\n",
    "# Try EPSG from first item\n",
    "item0 = s2a_items[0]\n",
    "epsg = None\n",
    "try:\n",
    "    epsg = item0.assets[\"B02\"].extra_fields[\"proj:epsg\"]\n",
    "    print(f\"Using EPSG from first item: {epsg}\")\n",
    "except KeyError:\n",
    "    pass\n",
    "\n",
    "# Fall back to AOI centroid\n",
    "if epsg is None:\n",
    "    centroid: Point = aoi_gdf.geometry[0].centroid\n",
    "    lon, lat = centroid.x, centroid.y\n",
    "    zone = int((lon + 180) / 6) + 1\n",
    "    epsg = 32600 + zone if lat >= 0 else 32700 + zone\n",
    "    print(f\"Using EPSG from AOI centroid: {epsg}\")\n"
   ]
  },
  {
   "cell_type": "code",
   "execution_count": null,
   "id": "aa3ae2b1",
   "metadata": {},
   "outputs": [
    {
     "name": "stdout",
     "output_type": "stream",
     "text": [
      "Cache key for raw stack: 37ff6739bdbe43569f16662f2ea1f669_raw\n",
      "❌ No cached raw stack found. Processing raw data from scratch...\n",
      "Creating initial stack…\n",
      "Stack shape: (20, 11, 4879, 4412)\n",
      "Rechunking data…\n",
      "Histogram matching scenes…\n"
     ]
    },
    {
     "name": "stderr",
     "output_type": "stream",
     "text": [
      "Processing scenes: 100%|██████████| 20/20 [00:01<00:00, 16.10it/s]"
     ]
    },
    {
     "name": "stdout",
     "output_type": "stream",
     "text": [
      "Computing full raw stack…\n",
      "[                                        ] | 0% Completed | 129.21 us"
     ]
    },
    {
     "name": "stderr",
     "output_type": "stream",
     "text": [
      "\n"
     ]
    },
    {
     "name": "stdout",
     "output_type": "stream",
     "text": [
      "[########################################] | 100% Completed | 408.89 s\n",
      "Saving composite to cache: /Users/thowe/sentinel2_cache/37ff6739bdbe43569f16662f2ea1f669_raw_composite.nc\n",
      "✅ Raw stack saved to cache for future runs!\n",
      "Raw stack shape: (20, 10, 4879, 4412)\n",
      "Raw stack bands: ['B01', 'B02', 'B03', 'B04', 'B06', 'B07', 'B08', 'B8A', 'B11', 'B12']\n"
     ]
    }
   ],
   "source": [
    "### Cell 5: Process & cache raw histogram-matched stack (no cloud masking)\n",
    "\n",
    "# Create base cache key and derive a raw-stack key\n",
    "base_key = create_cache_key(s2a_items, aoi_gdf.total_bounds, epsg)\n",
    "raw_cache_key = f\"{base_key}_raw\"\n",
    "\n",
    "print(f\"Cache key for raw stack: {raw_cache_key}\")\n",
    "raw_stack = load_from_cache(raw_cache_key, cache_dir)\n",
    "\n",
    "if raw_stack is not None:\n",
    "    print(\"✅ Loaded raw histogram-matched stack from cache!\")\n",
    "else:\n",
    "    print(\"❌ No cached raw stack found. Processing raw data from scratch...\")\n",
    "\n",
    "    # ——— Build initial 10 m stack ———\n",
    "    print(\"Creating initial stack…\")\n",
    "    stack = stackstac.stack(\n",
    "        s2a_items,\n",
    "        assets=[\"B01\",\"B02\",\"B03\",\"B04\",\"B06\",\"B07\",\"B08\",\"B8A\",\"B11\",\"B12\",\"SCL\"],\n",
    "        resolution=10,\n",
    "        epsg=epsg,\n",
    "        chunksize=2048,\n",
    "        bounds_latlon=aoi_gdf.total_bounds,\n",
    "        dtype=\"float64\",\n",
    "        rescale=True,\n",
    "        errors_as_nodata=[RasterioIOError, RuntimeError],\n",
    "    )\n",
    "    print(\"Stack shape:\", stack.shape)\n",
    "\n",
    "    # Rechunk for per-scene processing\n",
    "    print(\"Rechunking data…\")\n",
    "    stack_small = stack.chunk({\"band\": -1, \"y\": -1, \"x\": -1})\n",
    "    ref_bands = [\"B01\",\"B02\",\"B03\",\"B04\",\"B06\",\"B07\",\"B08\",\"B8A\",\"B11\",\"B12\"]\n",
    "    ref = stack_small.isel(time=0).sel(band=ref_bands).chunk({\"band\": -1, \"y\": -1, \"x\": -1})\n",
    "\n",
    "    # Define histogram-matching UFunc\n",
    "    def match_to_ref(scene, ref):\n",
    "        return xr.apply_ufunc(\n",
    "            match_histograms,\n",
    "            scene, ref,\n",
    "            input_core_dims=[[\"band\",\"y\",\"x\"],[\"band\",\"y\",\"x\"]],\n",
    "            output_core_dims=[[\"band\",\"y\",\"x\"]],\n",
    "            vectorize=True,\n",
    "            dask=\"parallelized\",\n",
    "            output_dtypes=[scene.dtype],\n",
    "            dask_gufunc_kwargs={\n",
    "                \"allow_rechunk\": True,\n",
    "                \"output_sizes\": {\"band\": scene.sizes[\"band\"], \"y\": scene.sizes[\"y\"], \"x\": scene.sizes[\"x\"]},\n",
    "            },\n",
    "        )\n",
    "\n",
    "    # Apply histogram matching to each scene\n",
    "    print(\"Histogram matching scenes…\")\n",
    "    matched = []\n",
    "    for i, t in enumerate(tqdm(stack_small.time.values, desc=\"Processing scenes\")):\n",
    "        scene = stack_small.isel(time=i).sel(band=ref.band).chunk({\"band\": -1, \"y\": -1, \"x\": -1})\n",
    "        m = match_to_ref(scene, ref).expand_dims(time=[t])\n",
    "        matched.append(m)\n",
    "\n",
    "    stack_norm = xr.concat(matched, dim=\"time\")\n",
    "\n",
    "    # Compute & cache the raw (histogram-matched) stack\n",
    "    print(\"Computing full raw stack…\")\n",
    "    with ProgressBar():\n",
    "        raw_stack = stack_norm.compute()\n",
    "\n",
    "    # Attach CRS info and save\n",
    "    \n",
    "    # raw_stack currently has only reflectance bands\n",
    "    raw_stack = raw_stack.rio.write_crs(f\"EPSG:{epsg}\")\n",
    "    \n",
    "    # —– Step A: extract and compute SCL from the original chunked stack_small —–\n",
    "    print(\"Computing raw SCL…\")\n",
    "    with ProgressBar():\n",
    "        scl = stack_small.sel(band=\"SCL\").compute()\n",
    "    \n",
    "    # reshape SCL so its dims match raw_stack\n",
    "    # (time, band=['SCL'], y, x)\n",
    "    scl = scl.expand_dims(band=[\"SCL\"]).transpose(\"time\",\"band\",\"y\",\"x\")\n",
    "    \n",
    "    # —– Step B: concatenate reflectance + SCL along the band axis —–\n",
    "    raw_full = xr.concat([raw_stack, scl], dim=\"band\")\n",
    "    raw_full = raw_full.rio.write_crs(f\"EPSG:{epsg}\")\n",
    "    \n",
    "    # —– Step C: save the merged cube back to cache —–\n",
    "    save_to_cache(raw_full, raw_cache_key, cache_dir)\n",
    "    print(\"✅ Raw (reflectance + SCL) saved to cache!\")\n",
    "\n",
    "print(\"Raw stack shape:\", raw_stack.shape)\n",
    "print(\"Raw stack bands:\", list(raw_stack.band.values))"
   ]
  },
  {
   "cell_type": "code",
   "execution_count": 7,
   "id": "d5f4f400",
   "metadata": {},
   "outputs": [
    {
     "name": "stdout",
     "output_type": "stream",
     "text": [
      "Loading composite from cache: /Users/thowe/sentinel2_cache/37ff6739bdbe43569f16662f2ea1f669_raw_composite.nc\n",
      "Applying cloud mask and creating median composite…\n"
     ]
    },
    {
     "ename": "KeyError",
     "evalue": "\"'band' is not a valid dimension or coordinate for Dataset with dimensions FrozenMappingWarningOnValuesAccess({})\"",
     "output_type": "error",
     "traceback": [
      "\u001b[0;31m---------------------------------------------------------------------------\u001b[0m",
      "\u001b[0;31mKeyError\u001b[0m                                  Traceback (most recent call last)",
      "Cell \u001b[0;32mIn[7], line 10\u001b[0m\n\u001b[1;32m      7\u001b[0m \u001b[38;5;28mprint\u001b[39m(\u001b[38;5;124m\"\u001b[39m\u001b[38;5;124mApplying cloud mask and creating median composite…\u001b[39m\u001b[38;5;124m\"\u001b[39m)\n\u001b[1;32m      9\u001b[0m \u001b[38;5;66;03m# Extract Scene Classification Layer (SCL) and build valid mask\u001b[39;00m\n\u001b[0;32m---> 10\u001b[0m scl \u001b[38;5;241m=\u001b[39m \u001b[43mraw_stack\u001b[49m\u001b[38;5;241;43m.\u001b[39;49m\u001b[43msel\u001b[49m\u001b[43m(\u001b[49m\u001b[43mband\u001b[49m\u001b[38;5;241;43m=\u001b[39;49m\u001b[38;5;124;43m\"\u001b[39;49m\u001b[38;5;124;43mSCL\u001b[39;49m\u001b[38;5;124;43m\"\u001b[39;49m\u001b[43m)\u001b[49m\n\u001b[1;32m     11\u001b[0m valid \u001b[38;5;241m=\u001b[39m scl\u001b[38;5;241m.\u001b[39misin([\u001b[38;5;241m4\u001b[39m, \u001b[38;5;241m5\u001b[39m, \u001b[38;5;241m6\u001b[39m])  \u001b[38;5;66;03m# vegetation=4, bare soil=5, water=6\u001b[39;00m\n\u001b[1;32m     13\u001b[0m \u001b[38;5;66;03m# Select only reflectance bands and apply mask\u001b[39;00m\n",
      "File \u001b[0;32m/opt/anaconda3/envs/geo_env/lib/python3.12/site-packages/xarray/core/dataarray.py:1682\u001b[0m, in \u001b[0;36mDataArray.sel\u001b[0;34m(self, indexers, method, tolerance, drop, **indexers_kwargs)\u001b[0m\n\u001b[1;32m   1566\u001b[0m \u001b[38;5;28;01mdef\u001b[39;00m \u001b[38;5;21msel\u001b[39m(\n\u001b[1;32m   1567\u001b[0m     \u001b[38;5;28mself\u001b[39m,\n\u001b[1;32m   1568\u001b[0m     indexers: Mapping[Any, Any] \u001b[38;5;241m|\u001b[39m \u001b[38;5;28;01mNone\u001b[39;00m \u001b[38;5;241m=\u001b[39m \u001b[38;5;28;01mNone\u001b[39;00m,\n\u001b[0;32m   (...)\u001b[0m\n\u001b[1;32m   1572\u001b[0m     \u001b[38;5;241m*\u001b[39m\u001b[38;5;241m*\u001b[39mindexers_kwargs: Any,\n\u001b[1;32m   1573\u001b[0m ) \u001b[38;5;241m-\u001b[39m\u001b[38;5;241m>\u001b[39m Self:\n\u001b[1;32m   1574\u001b[0m \u001b[38;5;250m    \u001b[39m\u001b[38;5;124;03m\"\"\"Return a new DataArray whose data is given by selecting index\u001b[39;00m\n\u001b[1;32m   1575\u001b[0m \u001b[38;5;124;03m    labels along the specified dimension(s).\u001b[39;00m\n\u001b[1;32m   1576\u001b[0m \n\u001b[0;32m   (...)\u001b[0m\n\u001b[1;32m   1680\u001b[0m \u001b[38;5;124;03m    Dimensions without coordinates: points\u001b[39;00m\n\u001b[1;32m   1681\u001b[0m \u001b[38;5;124;03m    \"\"\"\u001b[39;00m\n\u001b[0;32m-> 1682\u001b[0m     ds \u001b[38;5;241m=\u001b[39m \u001b[38;5;28;43mself\u001b[39;49m\u001b[38;5;241;43m.\u001b[39;49m\u001b[43m_to_temp_dataset\u001b[49m\u001b[43m(\u001b[49m\u001b[43m)\u001b[49m\u001b[38;5;241;43m.\u001b[39;49m\u001b[43msel\u001b[49m\u001b[43m(\u001b[49m\n\u001b[1;32m   1683\u001b[0m \u001b[43m        \u001b[49m\u001b[43mindexers\u001b[49m\u001b[38;5;241;43m=\u001b[39;49m\u001b[43mindexers\u001b[49m\u001b[43m,\u001b[49m\n\u001b[1;32m   1684\u001b[0m \u001b[43m        \u001b[49m\u001b[43mdrop\u001b[49m\u001b[38;5;241;43m=\u001b[39;49m\u001b[43mdrop\u001b[49m\u001b[43m,\u001b[49m\n\u001b[1;32m   1685\u001b[0m \u001b[43m        \u001b[49m\u001b[43mmethod\u001b[49m\u001b[38;5;241;43m=\u001b[39;49m\u001b[43mmethod\u001b[49m\u001b[43m,\u001b[49m\n\u001b[1;32m   1686\u001b[0m \u001b[43m        \u001b[49m\u001b[43mtolerance\u001b[49m\u001b[38;5;241;43m=\u001b[39;49m\u001b[43mtolerance\u001b[49m\u001b[43m,\u001b[49m\n\u001b[1;32m   1687\u001b[0m \u001b[43m        \u001b[49m\u001b[38;5;241;43m*\u001b[39;49m\u001b[38;5;241;43m*\u001b[39;49m\u001b[43mindexers_kwargs\u001b[49m\u001b[43m,\u001b[49m\n\u001b[1;32m   1688\u001b[0m \u001b[43m    \u001b[49m\u001b[43m)\u001b[49m\n\u001b[1;32m   1689\u001b[0m     \u001b[38;5;28;01mreturn\u001b[39;00m \u001b[38;5;28mself\u001b[39m\u001b[38;5;241m.\u001b[39m_from_temp_dataset(ds)\n",
      "File \u001b[0;32m/opt/anaconda3/envs/geo_env/lib/python3.12/site-packages/xarray/core/dataset.py:2890\u001b[0m, in \u001b[0;36mDataset.sel\u001b[0;34m(self, indexers, method, tolerance, drop, **indexers_kwargs)\u001b[0m\n\u001b[1;32m   2822\u001b[0m \u001b[38;5;250m\u001b[39m\u001b[38;5;124;03m\"\"\"Returns a new dataset with each array indexed by tick labels\u001b[39;00m\n\u001b[1;32m   2823\u001b[0m \u001b[38;5;124;03malong the specified dimension(s).\u001b[39;00m\n\u001b[1;32m   2824\u001b[0m \n\u001b[0;32m   (...)\u001b[0m\n\u001b[1;32m   2887\u001b[0m \n\u001b[1;32m   2888\u001b[0m \u001b[38;5;124;03m\"\"\"\u001b[39;00m\n\u001b[1;32m   2889\u001b[0m indexers \u001b[38;5;241m=\u001b[39m either_dict_or_kwargs(indexers, indexers_kwargs, \u001b[38;5;124m\"\u001b[39m\u001b[38;5;124msel\u001b[39m\u001b[38;5;124m\"\u001b[39m)\n\u001b[0;32m-> 2890\u001b[0m query_results \u001b[38;5;241m=\u001b[39m \u001b[43mmap_index_queries\u001b[49m\u001b[43m(\u001b[49m\n\u001b[1;32m   2891\u001b[0m \u001b[43m    \u001b[49m\u001b[38;5;28;43mself\u001b[39;49m\u001b[43m,\u001b[49m\u001b[43m \u001b[49m\u001b[43mindexers\u001b[49m\u001b[38;5;241;43m=\u001b[39;49m\u001b[43mindexers\u001b[49m\u001b[43m,\u001b[49m\u001b[43m \u001b[49m\u001b[43mmethod\u001b[49m\u001b[38;5;241;43m=\u001b[39;49m\u001b[43mmethod\u001b[49m\u001b[43m,\u001b[49m\u001b[43m \u001b[49m\u001b[43mtolerance\u001b[49m\u001b[38;5;241;43m=\u001b[39;49m\u001b[43mtolerance\u001b[49m\n\u001b[1;32m   2892\u001b[0m \u001b[43m\u001b[49m\u001b[43m)\u001b[49m\n\u001b[1;32m   2894\u001b[0m \u001b[38;5;28;01mif\u001b[39;00m drop:\n\u001b[1;32m   2895\u001b[0m     no_scalar_variables \u001b[38;5;241m=\u001b[39m {}\n",
      "File \u001b[0;32m/opt/anaconda3/envs/geo_env/lib/python3.12/site-packages/xarray/core/indexing.py:189\u001b[0m, in \u001b[0;36mmap_index_queries\u001b[0;34m(obj, indexers, method, tolerance, **indexers_kwargs)\u001b[0m\n\u001b[1;32m    186\u001b[0m     options \u001b[38;5;241m=\u001b[39m {\u001b[38;5;124m\"\u001b[39m\u001b[38;5;124mmethod\u001b[39m\u001b[38;5;124m\"\u001b[39m: method, \u001b[38;5;124m\"\u001b[39m\u001b[38;5;124mtolerance\u001b[39m\u001b[38;5;124m\"\u001b[39m: tolerance}\n\u001b[1;32m    188\u001b[0m indexers \u001b[38;5;241m=\u001b[39m either_dict_or_kwargs(indexers, indexers_kwargs, \u001b[38;5;124m\"\u001b[39m\u001b[38;5;124mmap_index_queries\u001b[39m\u001b[38;5;124m\"\u001b[39m)\n\u001b[0;32m--> 189\u001b[0m grouped_indexers \u001b[38;5;241m=\u001b[39m \u001b[43mgroup_indexers_by_index\u001b[49m\u001b[43m(\u001b[49m\u001b[43mobj\u001b[49m\u001b[43m,\u001b[49m\u001b[43m \u001b[49m\u001b[43mindexers\u001b[49m\u001b[43m,\u001b[49m\u001b[43m \u001b[49m\u001b[43moptions\u001b[49m\u001b[43m)\u001b[49m\n\u001b[1;32m    191\u001b[0m results \u001b[38;5;241m=\u001b[39m []\n\u001b[1;32m    192\u001b[0m \u001b[38;5;28;01mfor\u001b[39;00m index, labels \u001b[38;5;129;01min\u001b[39;00m grouped_indexers:\n",
      "File \u001b[0;32m/opt/anaconda3/envs/geo_env/lib/python3.12/site-packages/xarray/core/indexing.py:150\u001b[0m, in \u001b[0;36mgroup_indexers_by_index\u001b[0;34m(obj, indexers, options)\u001b[0m\n\u001b[1;32m    148\u001b[0m     \u001b[38;5;28;01mraise\u001b[39;00m \u001b[38;5;167;01mKeyError\u001b[39;00m(\u001b[38;5;124mf\u001b[39m\u001b[38;5;124m\"\u001b[39m\u001b[38;5;124mno index found for coordinate \u001b[39m\u001b[38;5;132;01m{\u001b[39;00mkey\u001b[38;5;132;01m!r}\u001b[39;00m\u001b[38;5;124m\"\u001b[39m)\n\u001b[1;32m    149\u001b[0m \u001b[38;5;28;01melif\u001b[39;00m key \u001b[38;5;129;01mnot\u001b[39;00m \u001b[38;5;129;01min\u001b[39;00m obj\u001b[38;5;241m.\u001b[39mdims:\n\u001b[0;32m--> 150\u001b[0m     \u001b[38;5;28;01mraise\u001b[39;00m \u001b[38;5;167;01mKeyError\u001b[39;00m(\n\u001b[1;32m    151\u001b[0m         \u001b[38;5;124mf\u001b[39m\u001b[38;5;124m\"\u001b[39m\u001b[38;5;132;01m{\u001b[39;00mkey\u001b[38;5;132;01m!r}\u001b[39;00m\u001b[38;5;124m is not a valid dimension or coordinate for \u001b[39m\u001b[38;5;124m\"\u001b[39m\n\u001b[1;32m    152\u001b[0m         \u001b[38;5;124mf\u001b[39m\u001b[38;5;124m\"\u001b[39m\u001b[38;5;132;01m{\u001b[39;00mobj\u001b[38;5;241m.\u001b[39m\u001b[38;5;18m__class__\u001b[39m\u001b[38;5;241m.\u001b[39m\u001b[38;5;18m__name__\u001b[39m\u001b[38;5;132;01m}\u001b[39;00m\u001b[38;5;124m with dimensions \u001b[39m\u001b[38;5;132;01m{\u001b[39;00mobj\u001b[38;5;241m.\u001b[39mdims\u001b[38;5;132;01m!r}\u001b[39;00m\u001b[38;5;124m\"\u001b[39m\n\u001b[1;32m    153\u001b[0m     )\n\u001b[1;32m    154\u001b[0m \u001b[38;5;28;01melif\u001b[39;00m \u001b[38;5;28mlen\u001b[39m(options):\n\u001b[1;32m    155\u001b[0m     \u001b[38;5;28;01mraise\u001b[39;00m \u001b[38;5;167;01mValueError\u001b[39;00m(\n\u001b[1;32m    156\u001b[0m         \u001b[38;5;124mf\u001b[39m\u001b[38;5;124m\"\u001b[39m\u001b[38;5;124mcannot supply selection options \u001b[39m\u001b[38;5;132;01m{\u001b[39;00moptions\u001b[38;5;132;01m!r}\u001b[39;00m\u001b[38;5;124m for dimension \u001b[39m\u001b[38;5;132;01m{\u001b[39;00mkey\u001b[38;5;132;01m!r}\u001b[39;00m\u001b[38;5;124m\"\u001b[39m\n\u001b[1;32m    157\u001b[0m         \u001b[38;5;124m\"\u001b[39m\u001b[38;5;124mthat has no associated coordinate or index\u001b[39m\u001b[38;5;124m\"\u001b[39m\n\u001b[1;32m    158\u001b[0m     )\n",
      "\u001b[0;31mKeyError\u001b[0m: \"'band' is not a valid dimension or coordinate for Dataset with dimensions FrozenMappingWarningOnValuesAccess({})\""
     ]
    }
   ],
   "source": [
    "### Cell 5.5: Cloud masking + median composite (loads raw from cache)\n",
    "\n",
    "# Load raw_stack from cell 5 (or cache)\n",
    "#raw_stack should already be in memory, but if you restart the kernel:\n",
    "raw_stack = load_from_cache(raw_cache_key, cache_dir)\n",
    "\n",
    "print(\"Applying cloud mask and creating median composite…\")\n",
    "\n",
    "# Extract Scene Classification Layer (SCL) and build valid mask\n",
    "scl = raw_stack.sel(band=\"SCL\")\n",
    "valid = scl.isin([4, 5, 6])  # vegetation=4, bare soil=5, water=6\n",
    "\n",
    "# Select only reflectance bands and apply mask\n",
    "reflectance_bands = [\"B01\",\"B02\",\"B03\",\"B04\",\"B06\",\"B07\",\"B08\",\"B8A\",\"B11\",\"B12\"]\n",
    "clean = raw_stack.sel(band=reflectance_bands).where(valid)\n",
    "\n",
    "# Compute median composite\n",
    "print(\"Computing median…\")\n",
    "with ProgressBar():\n",
    "    composite = clean.median(dim=\"time\").compute()\n",
    "\n",
    "# Add CRS metadata\n",
    "composite = composite.rio.write_crs(f\"EPSG:{epsg}\")\n",
    "\n",
    "# (Optional) cache the composited result under its own key\n",
    "comp_cache_key = f\"{base_key}_composite\"\n",
    "save_to_cache(composite, comp_cache_key, cache_dir)\n",
    "print(\"✅ Composite saved to cache under key:\", comp_cache_key)\n",
    "\n",
    "print(\"Composite shape:\", composite.shape)\n",
    "print(\"Composite bands:\", list(composite.band.values))"
   ]
  },
  {
   "cell_type": "code",
   "execution_count": null,
   "id": "c69a4ed4",
   "metadata": {},
   "outputs": [],
   "source": [
    "### CELL - Plot all composite bands in subplots\n",
    "\n",
    "bands = list(composite.band.values)  # ['B01', 'B02', 'B03', 'B04', 'B06', 'B07', 'B08', 'B8A', 'B11', 'B12']\n",
    "n = len(bands)\n",
    "ncols = 5\n",
    "nrows = 2\n",
    "\n",
    "fig, axes = plt.subplots(nrows, ncols, figsize=(20, 8), squeeze=False)\n",
    "\n",
    "for i, band in enumerate(bands):\n",
    "    row = i // ncols\n",
    "    col = i % ncols\n",
    "    ax = axes[row, col]\n",
    "    \n",
    "    da = composite.sel(band=band)\n",
    "    \n",
    "    # Use appropriate colormap for different bands\n",
    "    if band in [\"B02\", \"B03\", \"B04\"]:  # Blue, Green, Red\n",
    "        cmap = \"gray\"\n",
    "    elif band in [\"B08\", \"B8A\"]:  # NIR bands\n",
    "        cmap = \"RdYlGn\"\n",
    "    elif band in [\"B11\", \"B12\"]:  # SWIR bands\n",
    "        cmap = \"copper\"\n",
    "    else:\n",
    "        cmap = \"viridis\"\n",
    "    \n",
    "    im = da.plot.imshow(\n",
    "        ax=ax,\n",
    "        cmap=cmap,\n",
    "        add_colorbar=False,\n",
    "        add_labels=False,\n",
    "        origin=\"upper\"\n",
    "    )\n",
    "    \n",
    "    cbar = fig.colorbar(im, ax=ax, orientation=\"vertical\", fraction=0.046, pad=0.04)\n",
    "    cbar.set_label(\"Reflectance\")\n",
    "    ax.set_title(f\"Band {band}\")\n",
    "    ax.axis(\"off\")\n",
    "\n",
    "plt.tight_layout()\n",
    "plt.show()"
   ]
  },
  {
   "cell_type": "code",
   "execution_count": null,
   "id": "0fee6fab",
   "metadata": {},
   "outputs": [],
   "source": [
    "\n",
    "### CELL 6 Calculate spectral indices (now near-instant!)\n",
    "\n",
    "print(\"Calculating spectral indices...\")\n",
    "\n",
    "# list out each function you want to try\n",
    "funcs = [\n",
    "    #s2i.hematite_goethite_s2, \n",
    "    #s2i.hematite_jarosite_s2, \n",
    "    #s2i.mixed_iron_s2,\n",
    "    s2i.ndvi_s2\n",
    "]\n",
    "\n",
    "results = []\n",
    "for fn in tqdm(funcs, desc=\"Computing indices\"):\n",
    "    da = fn(composite)\n",
    "    # rename the DataArray to the function name\n",
    "    da = da.rename(fn.__name__)\n",
    "    # create a new length-1 \"band\" dimension, with its label equal to the function name\n",
    "    da = da.expand_dims(\"band\").assign_coords({\"band\": [fn.__name__]})\n",
    "    results.append(da)\n",
    "\n",
    "# now concat along that new \"band\" axis\n",
    "indices = xr.concat(results, dim=\"band\")\n",
    "\n",
    "print(\"✅ Spectral indices computed!\")\n",
    "print(\"Index bands:\", list(indices.band.values))\n"
   ]
  },
  {
   "cell_type": "code",
   "execution_count": null,
   "id": "7cef82a6",
   "metadata": {},
   "outputs": [],
   "source": [
    "\n",
    "### CELL 7 Plot the results\n",
    "\n",
    "bands = list(indices.band.values)\n",
    "n = len(bands)\n",
    "ncols = min(4, n)\n",
    "nrows = math.ceil(n / ncols)\n",
    "\n",
    "fig, axes = plt.subplots(nrows, ncols, figsize=(4 * ncols, 4 * nrows), squeeze=False)\n",
    "\n",
    "for i, band in enumerate(bands):\n",
    "    ax = axes.flat[i]\n",
    "    da = indices.sel(band=band)\n",
    "\n",
    "    cmap = (\"terrain\" if \"clay\" in band\n",
    "            else \"RdBu\"   if \"iron\" in band\n",
    "            else \"viridis\")\n",
    "\n",
    "    arr = da.squeeze().values\n",
    "    im = da.plot.imshow(\n",
    "        ax=ax,\n",
    "        cmap=cmap,\n",
    "        add_colorbar=False,\n",
    "        add_labels=False,   \n",
    "        origin=\"upper\"\n",
    "    )\n",
    "    cbar = fig.colorbar(im, ax=ax,\n",
    "                        orientation=\"vertical\",\n",
    "                        fraction=0.046, pad=0.04)\n",
    "    cbar.set_label(band.replace(\"_\",\" \").title())\n",
    "    ax.set_title(band.replace(\"_\",\" \").title())\n",
    "    ax.axis(\"off\")\n",
    "\n",
    "# disable any empty subplots\n",
    "for j in range(n, nrows * ncols):\n",
    "    r, c = divmod(j, ncols)\n",
    "    axes[r][c].axis(\"off\")\n",
    "\n",
    "plt.tight_layout()\n",
    "plt.show()\n"
   ]
  },
  {
   "cell_type": "code",
   "execution_count": null,
   "id": "66a497b1",
   "metadata": {},
   "outputs": [],
   "source": [
    "\n",
    "### CELL 8 Export the results\n",
    "\n",
    "index_names = list(indices.band.values)\n",
    "print(\"Will export these indices:\", index_names)\n",
    "\n",
    "output_dir = '/Users/thowe/Downloads'\n",
    "os.makedirs(output_dir, exist_ok=True)\n",
    "\n",
    "# loop through names and export\n",
    "for name in tqdm(index_names, desc=\"Exporting indices\"):\n",
    "    da = indices.sel(band=name)\n",
    "    da.rio.to_raster(os.path.join(output_dir, f\"{name}.tif\"))\n",
    "\n",
    "print(\"✅ Export completed!\")\n"
   ]
  },
  {
   "cell_type": "code",
   "execution_count": null,
   "id": "346550f0",
   "metadata": {},
   "outputs": [],
   "source": [
    "\n",
    "### OPTIONAL: Cache management utilities\n",
    "\n",
    "def list_cached_composites(cache_dir):\n",
    "    \"\"\"List all cached composites\"\"\"\n",
    "    cache_files = [f for f in os.listdir(cache_dir) if f.endswith('_composite.nc')]\n",
    "    print(f\"Found {len(cache_files)} cached composites:\")\n",
    "    for f in cache_files:\n",
    "        cache_path = os.path.join(cache_dir, f)\n",
    "        size_mb = os.path.getsize(cache_path) / (1024*1024)\n",
    "        print(f\"  {f}: {size_mb:.1f} MB\")\n",
    "\n",
    "def clear_cache(cache_dir):\n",
    "    \"\"\"Clear all cached files\"\"\"\n",
    "    import shutil\n",
    "    if os.path.exists(cache_dir):\n",
    "        shutil.rmtree(cache_dir)\n",
    "        os.makedirs(cache_dir, exist_ok=True)\n",
    "        print(\"Cache cleared!\")\n"
   ]
  },
  {
   "cell_type": "code",
   "execution_count": null,
   "id": "cb419ce6",
   "metadata": {},
   "outputs": [],
   "source": [
    "\n",
    "# Uncomment to use:\n",
    "# list_cached_composites(cache_dir)\n",
    "# clear_cache(cache_dir)"
   ]
  }
 ],
 "metadata": {
  "kernelspec": {
   "display_name": "geo_env",
   "language": "python",
   "name": "python3"
  },
  "language_info": {
   "codemirror_mode": {
    "name": "ipython",
    "version": 3
   },
   "file_extension": ".py",
   "mimetype": "text/x-python",
   "name": "python",
   "nbconvert_exporter": "python",
   "pygments_lexer": "ipython3",
   "version": "3.12.5"
  }
 },
 "nbformat": 4,
 "nbformat_minor": 5
}
