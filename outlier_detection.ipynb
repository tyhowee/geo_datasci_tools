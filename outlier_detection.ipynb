{
 "cells": [
  {
   "cell_type": "markdown",
   "metadata": {},
   "source": [
    "# <u>Multivariate Outlier Detection in Geochemical Datasets</u>\n",
    "\n",
    "This notebook is intended as an open-source resource for exploring, analyzing and comparing three different methods of outlier detection in geochemical datasets in the context of mineral exploration.  \n",
    "<br />\n",
    "<br />\n",
    "The three primary outlier detection algorithms we will use are the following: \n",
    "- Isolation Forests (IF) (Liu et al., 2008)\n",
    "- Local Outlier Factor (LOF) (Breunig et al., 2000)\n",
    "- Angle Based Outlier Detection (ABOD) (Shahrestani & Sanislav, 2025)\n",
    "<br />\n",
    "<br />\n",
    "\n",
    "This work is driven from the findings in Antoine Caté's article on multivariate outlier detection for mineral exploration.\n",
    "\n",
    "<br />\n",
    "<br />\n",
    "<u>References: </u>\n",
    "\n",
    "*Breunig, M. M., Kriegel, H.-P., Ng, R. T., and Sander, J., 2000, LOF: Identifying Density-Based Local Outliers: ACM SIGMOD Record, v. 29, no. 2, p. 93-104.*\n",
    "\n",
    "*Liu, F. T., Ting, K. M., and Zhou, Z.-H., 2008, Isolation Forest, 2008 Eighth IEEE International Conference on Data Mining, p. 413-422.*\n",
    "\n",
    "*Shahrestani, S., and Sanislav, I., 2025, Mapping geochemical anomalies using angle-based outlier detection approach: Journal of Geochemical Exploration, v. 269.*\n",
    "<br />\n",
    "\n",
    "---"
   ]
  }
 ],
 "metadata": {
  "language_info": {
   "name": "python"
  }
 },
 "nbformat": 4,
 "nbformat_minor": 2
}
